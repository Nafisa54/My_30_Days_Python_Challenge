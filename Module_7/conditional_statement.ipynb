{
 "cells": [
  {
   "cell_type": "markdown",
   "metadata": {},
   "source": [
    "#### 💻 Conditionals Exercises"
   ]
  },
  {
   "cell_type": "code",
   "execution_count": 10,
   "metadata": {},
   "outputs": [
    {
     "name": "stdout",
     "output_type": "stream",
     "text": [
      "You are old enough to drive.\n"
     ]
    }
   ],
   "source": [
    "# Get user input using input(“Enter your age: ”). \n",
    "# If user is 18 or older, give feedback: You are old enough to drive.\n",
    "#  If below 18 give feedback to wait for the missing amount of years. \n",
    "# Output:\n",
    "user_age = input(\"Enter your age: \")  # Prompt the user\n",
    "try:\n",
    "    user_age = int(user_age)  # Convert input to integer\n",
    "    if user_age >= 18:\n",
    "        print(\"You are old enough to drive.\")\n",
    "    else:\n",
    "        years_to_wait = 18 - user_age\n",
    "        print(f\"You need to wait {years_to_wait} more year(s) to drive.\")\n",
    "except ValueError:\n",
    "    print(\"Please enter a valid age (a number).\")\n",
    "\n"
   ]
  },
  {
   "cell_type": "code",
   "execution_count": 12,
   "metadata": {},
   "outputs": [
    {
     "name": "stdout",
     "output_type": "stream",
     "text": [
      "You are 2years older than me\n"
     ]
    }
   ],
   "source": [
    "# Compare the values of my_age and your_age using if … else. \n",
    "# Who is older (me or you)? Use input(“Enter your age: ”) to get the age as input.\\\n",
    "#  You can use a nested condition to print 'year' for 1 year difference in age, 'years' for bigger differences, and a custom text if my_age = your_age. Output:\n",
    "my_age = 30\n",
    "your_age = int(input(\"Enter your age\"))\n",
    "if my_age > your_age:\n",
    "    age_diff = my_age - your_age\n",
    "    print(f'The age difference is: {age_diff}. So am {age_diff}years older than you')\n",
    "elif your_age > my_age:\n",
    "    #Check when  user age is greater  than  my age\n",
    "    print(f'You are {your_age - my_age}years older than me')\n",
    "elif your_age == my_age:\n",
    "    print(\"We are both age mate\")\n",
    "else:\n",
    "    print(\"The both age cannot be determined\")"
   ]
  },
  {
   "cell_type": "code",
   "execution_count": 14,
   "metadata": {},
   "outputs": [
    {
     "name": "stdout",
     "output_type": "stream",
     "text": [
      "a is greater than b\n"
     ]
    }
   ],
   "source": [
    "# Get two numbers from the user using input prompt.\n",
    "#  If a is greater than b return a is greater than b,\n",
    "#  if a is less b return a is smaller than b,\n",
    "#  else a is equal to b. Output:\n",
    "\n",
    "a = int(input(\"Enter number One: \"))\n",
    "b = int(input(\"Enter number Two: \"))\n",
    "\n",
    "if a > b:\n",
    "    print(\"a is greater than b\")\n",
    "if a < b: \n",
    "    print(\"a is smaller than b\")\n",
    "elif a == b:\n",
    "    print(\"a is equal to b\")\n",
    "\n",
    "\n",
    "\n",
    "\n"
   ]
  },
  {
   "cell_type": "markdown",
   "metadata": {},
   "source": [
    "#### Exercises: Level 2"
   ]
  },
  {
   "cell_type": "code",
   "execution_count": 17,
   "metadata": {},
   "outputs": [
    {
     "name": "stdout",
     "output_type": "stream",
     "text": [
      "Your Score is B\n"
     ]
    }
   ],
   "source": [
    "# Write a code which gives grade to students according to theirs scores:\n",
    "# 80-100, A\n",
    "# 70-89, B\n",
    "# 60-69, C\n",
    "# 50-59, D\n",
    "# 0-49, F\n",
    "student_grade = int(input(\"Enter your grade\"))\n",
    "if student_grade >= 80:\n",
    "    print(f\"Your Score is A\")\n",
    "elif student_grade >=70:\n",
    "    print(f\"Your Score is B\")\n",
    "elif student_grade >=60:\n",
    "    print(f\"Your Score is C\")\n",
    "elif student_grade >=50:\n",
    "    print(f\"Your Score is D\")\n",
    "elif student_grade >=40:\n",
    "    print(f\"Your Score is F\")\n",
    "\n",
    "\n"
   ]
  },
  {
   "cell_type": "code",
   "execution_count": 24,
   "metadata": {},
   "outputs": [
    {
     "name": "stdout",
     "output_type": "stream",
     "text": [
      "the season of the year is Winter\n"
     ]
    }
   ],
   "source": [
    "# Check if the season is Autumn, Winter, Spring or Summer. \n",
    "# If the user input is: September, October or November, the season is Autumn.\n",
    "#  December, January or February, the season is Winter.\n",
    "#  March, April or May, the season is Spring \n",
    "# June, July or August, the season is Summer\n",
    "\n",
    "Seasonal_year =str(input(\"Enter Month of the Year\"))\n",
    "if Seasonal_year in (\"September\", \"October\", \"November\"):\n",
    "    print(f\"the season of the year is Autumn\")\n",
    "elif Seasonal_year in (\"December\", \"January\", \"February\"):\n",
    "    print(f\"the season of the year is Winter\")\n",
    "elif Seasonal_year in (\"March\", \"April\", \"May\"):\n",
    "    print(f\"the season of the year is Spring\")\n",
    "elif Seasonal_year in (\"June\", \"July\", \"August\"):\n",
    "    print(f\"the season of the year is Summer\")\n",
    "\n",
    "\n",
    "                \n",
    "\n",
    "\n",
    "\n"
   ]
  },
  {
   "cell_type": "code",
   "execution_count": 26,
   "metadata": {},
   "outputs": [
    {
     "name": "stdout",
     "output_type": "stream",
     "text": [
      "['banana', 'orange', 'mango', 'lemon', 'kiwi']\n"
     ]
    }
   ],
   "source": [
    "fruits = ['banana', 'orange', 'mango', 'lemon']\n",
    "fruit_1 = input(\"Enter the Fruit\")\n",
    "if fruit_1 not in fruits:\n",
    "    fruits.append(fruit_1)\n",
    "    print(fruits)\n",
    "else:\n",
    "    print(\"Fruit already exist\")"
   ]
  },
  {
   "cell_type": "code",
   "execution_count": 27,
   "metadata": {},
   "outputs": [
    {
     "name": "stdout",
     "output_type": "stream",
     "text": [
      "She is a data analyst\n",
      "She is a data scientist\n"
     ]
    }
   ],
   "source": [
    "# Exercises: Level 3\n",
    "# Here we have a person dictionary. Feel free to modify it!\n",
    "person={\n",
    "    'first_name': 'Nafisa',\n",
    "    'last_name': 'Aliyu',\n",
    "    'Middle_name': 'Isah',\n",
    "    'age': 250,\n",
    "    'country': 'Qatar',\n",
    "    'is_marred': True,\n",
    "    'skills': ['Excel', 'PowerBi', 'SQL', 'R', 'Python'],\n",
    "    'address': {\n",
    "        'street': 'Space street',\n",
    "        'zipcode': '02210'\n",
    "    }\n",
    "    }\n",
    "# SOLUTION\n",
    "if 'PowerBit' or 'Python' in person['skills']:\n",
    "    print('She is a data analyst')\n",
    "else: print(\"She need more skills to be a data analyst\")\n",
    "\n",
    "if 'SQL' or 'Excel' or 'R' in person['skills']:\n",
    "    print(\"She is a data scientist\")\n",
    "else:\n",
    "    print(\"unknow title\")\n"
   ]
  },
  {
   "cell_type": "code",
   "execution_count": null,
   "metadata": {},
   "outputs": [],
   "source": []
  },
  {
   "cell_type": "markdown",
   "metadata": {},
   "source": [
    "#### Congratulation on finishing Module 7"
   ]
  }
 ],
 "metadata": {
  "kernelspec": {
   "display_name": "Python 3",
   "language": "python",
   "name": "python3"
  },
  "language_info": {
   "codemirror_mode": {
    "name": "ipython",
    "version": 3
   },
   "file_extension": ".py",
   "mimetype": "text/x-python",
   "name": "python",
   "nbconvert_exporter": "python",
   "pygments_lexer": "ipython3",
   "version": "3.13.0"
  }
 },
 "nbformat": 4,
 "nbformat_minor": 2
}
