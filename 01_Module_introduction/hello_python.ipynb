{
 "cells": [
  {
   "cell_type": "markdown",
   "metadata": {},
   "source": [
    "# WELCOME TO MODULE ONE EXERCISE ON 30 DAYS OF PYTHON \n",
    "## Basic Arithemetic Operations "
   ]
  },
  {
   "cell_type": "code",
   "execution_count": null,
   "metadata": {},
   "outputs": [
    {
     "name": "stdout",
     "output_type": "stream",
     "text": [
      "15\n",
      "5\n",
      "50\n",
      "2.0\n",
      "100000\n",
      "0\n",
      "2\n"
     ]
    }
   ],
   "source": [
    "#Day 1 of 30 Days Challenges\n",
    "#Execercise 1.1\n",
    "\n",
    "print(10 + 5)   # Addition of integer\n",
    "print(10 - 5)   # Subtraction of integer\n",
    "print(10 * 5)   # Multiplication of integer\n",
    "print(10 / 5)   # Division of integer\n",
    "print(10 ** 5)  # Exponential of integer\n",
    "print(10 % 5)   # Modulus of integer\n",
    "print(10 // 5)  # Floor Division of integer\n",
    "\n"
   ]
  },
  {
   "cell_type": "code",
   "execution_count": 12,
   "metadata": {},
   "outputs": [
    {
     "name": "stdout",
     "output_type": "stream",
     "text": [
      "Nafisat\n",
      "Aliyu Isah\n",
      "Nigeria\n",
      "I am Enjoying my 30 days of python\n"
     ]
    }
   ],
   "source": [
    "#Execercise 1.2\n",
    "\n",
    "My_name = 'Nafisat' #string variable\n",
    "fam_name = 'Aliyu Isah' #string variable\n",
    "country = 'Nigeria'  #string variable\n",
    "Message = 'I am Enjoying my 30 days of python' #string variable\n",
    "\n",
    "print(My_name)\n",
    "print (fam_name)\n",
    "print (country)\n",
    "print (Message)"
   ]
  },
  {
   "cell_type": "code",
   "execution_count": 33,
   "metadata": {},
   "outputs": [
    {
     "name": "stdout",
     "output_type": "stream",
     "text": [
      "<class 'int'>\n",
      "<class 'float'>\n",
      "<class 'float'>\n",
      "<class 'complex'>\n",
      "<class 'list'>\n",
      "<class 'str'>\n",
      "<class 'str'>\n",
      "<class 'str'>\n",
      "<class 'tuple'>\n",
      "<class 'set'>\n",
      "<class 'dict'>\n",
      "<class 'bool'>\n",
      "<class 'bool'>\n"
     ]
    }
   ],
   "source": [
    "#Execercise 1.3\n",
    "\n",
    "print(type(10))             #int class\n",
    "print(type(9.8))            #float class\n",
    "print(type(3.14))           #float class\n",
    "print(type(4-4j))           #complex num class\n",
    "print(type(['Asabeneh', 'Python', 'Finland']))   #List class\n",
    "print(type('Nafisat'))      #string class\n",
    "print(type('Aliyu'))        #string class\n",
    "print(type('Nigeria'))      #string class\n",
    "print(type((2.5,3.6,6.9,8.8)))  #tuple class\n",
    "print(type({'name','Nafisat','age', 12}))\n",
    "print(type({'profession': 'Doctor','Hospital':'Nursing Home'})) #Ditionary class\n",
    "print(type(3 == 100))      #boolean type specifes True or False\n",
    "print(type(4 ==2))"
   ]
  }
 ],
 "metadata": {
  "kernelspec": {
   "display_name": "Python 3",
   "language": "python",
   "name": "python3"
  },
  "language_info": {
   "codemirror_mode": {
    "name": "ipython",
    "version": 3
   },
   "file_extension": ".py",
   "mimetype": "text/x-python",
   "name": "python",
   "nbconvert_exporter": "python",
   "pygments_lexer": "ipython3",
   "version": "3.13.0"
  }
 },
 "nbformat": 4,
 "nbformat_minor": 2
}
