{
 "cells": [
  {
   "cell_type": "markdown",
   "metadata": {},
   "source": [
    "Write a python comment saying 'Day 2: 30 Days of python programming'"
   ]
  },
  {
   "cell_type": "code",
   "execution_count": null,
   "metadata": {},
   "outputs": [],
   "source": [
    "#Declare a first name variable and assign a value to it\n",
    "first_name = 'Nafisat'\n"
   ]
  },
  {
   "cell_type": "code",
   "execution_count": 46,
   "metadata": {},
   "outputs": [],
   "source": [
    "#Declare a last name variable and assign a value to it\n",
    "last_name  = 'Aliyu'"
   ]
  },
  {
   "cell_type": "code",
   "execution_count": 47,
   "metadata": {},
   "outputs": [],
   "source": [
    "#Declare a full name variable and assign a value to it\n",
    "\n",
    "full_name = first_name + ' ' + last_name\n"
   ]
  },
  {
   "cell_type": "code",
   "execution_count": 48,
   "metadata": {},
   "outputs": [],
   "source": [
    "#Declare a country variable and assign a value to it\n",
    "country_name = 'Nigeria'"
   ]
  },
  {
   "cell_type": "code",
   "execution_count": 49,
   "metadata": {},
   "outputs": [],
   "source": [
    "#Declare a city variable and assign a value to it\n",
    "city = 'Kaduna'"
   ]
  },
  {
   "cell_type": "code",
   "execution_count": 50,
   "metadata": {},
   "outputs": [],
   "source": [
    "#Declare an age variable and assign a value to it\n",
    "age = 23"
   ]
  },
  {
   "cell_type": "code",
   "execution_count": 51,
   "metadata": {},
   "outputs": [],
   "source": [
    "#Declare a year variable and assign a value to it\n",
    "year = 1999"
   ]
  },
  {
   "cell_type": "code",
   "execution_count": 52,
   "metadata": {},
   "outputs": [],
   "source": [
    "#Declare a variable is_married and assign a value to it\n",
    "is_married = 'yes married'\n"
   ]
  },
  {
   "cell_type": "code",
   "execution_count": 53,
   "metadata": {},
   "outputs": [],
   "source": [
    "#Declare a variable is_true and assign a value to it\n",
    "is_true = 'God is one'\n"
   ]
  },
  {
   "cell_type": "code",
   "execution_count": 54,
   "metadata": {},
   "outputs": [],
   "source": [
    "#Declare a variable is_light_on and assign a value to it\n",
    "is_light_on = 'Yes the light is on'"
   ]
  },
  {
   "cell_type": "code",
   "execution_count": 55,
   "metadata": {},
   "outputs": [],
   "source": [
    "#Declare multiple variable on one line\n",
    "multiple_variables = 'Nafisa','Aliyu',23, 1999, 'Kaduna city',2.5,True,"
   ]
  },
  {
   "cell_type": "code",
   "execution_count": 56,
   "metadata": {},
   "outputs": [
    {
     "name": "stdout",
     "output_type": "stream",
     "text": [
      "<class 'str'>\n",
      "<class 'str'>\n",
      "<class 'str'>\n",
      "<class 'str'>\n",
      "<class 'str'>\n",
      "<class 'int'>\n",
      "<class 'int'>\n",
      "<class 'str'>\n",
      "<class 'str'>\n",
      "<class 'str'>\n",
      "<class 'str'>\n"
     ]
    }
   ],
   "source": [
    "#EXERCISES : LEVEL 2\n",
    "\n",
    "first_name = \"Nafisat\"\n",
    "last_name = \"Aliyu\"\n",
    "full_name = f'{first_name}'\n",
    "country = \"Nigeria\"\n",
    "city = \"Kaduna\"\n",
    "age = 23\n",
    "year = 2000\n",
    "is_married = \"No married\"\n",
    "is_true = \"yes is true\"\n",
    "is_light_on = \" Yes There is light\"\n",
    "second_number, first_number, city = \"Nafisat\", \"Aliyu\", \"Kaduna\"\n",
    "\n",
    "print(type(first_name))\n",
    "print(type(last_name))\n",
    "print(type(full_name))\n",
    "print(type(country))\n",
    "print(type(city))\n",
    "print(type(age))\n",
    "print(type(year))\n",
    "print(type(is_married))\n",
    "print(type(is_light_on))\n",
    "print(type(first_number))\n",
    "print(type(city))\n"
   ]
  },
  {
   "cell_type": "code",
   "execution_count": 57,
   "metadata": {},
   "outputs": [
    {
     "name": "stdout",
     "output_type": "stream",
     "text": [
      "7\n",
      "5\n"
     ]
    }
   ],
   "source": [
    "#Using the len() built-in function, find the length of your first name\n",
    "first_name = \"Nafisat\"\n",
    "print(len(first_name))\n",
    "\n",
    "last_name = \"Aliyu\"\n",
    "print(len(last_name))"
   ]
  },
  {
   "cell_type": "code",
   "execution_count": 58,
   "metadata": {},
   "outputs": [
    {
     "name": "stdout",
     "output_type": "stream",
     "text": [
      "False\n",
      "True\n",
      "False\n",
      "True\n"
     ]
    }
   ],
   "source": [
    "#Compare the length of your first name and your last name\n",
    "first_name = \"Nafisat\"\n",
    "\n",
    "last_name = \"Aliyu\"\n",
    "\n",
    "print(len(first_name) == len(last_name))\n",
    "print(len(first_name) >= len(last_name))\n",
    "print(len(first_name) <= len(last_name))\n",
    "print(len(first_name) != len(last_name))"
   ]
  },
  {
   "cell_type": "code",
   "execution_count": 59,
   "metadata": {},
   "outputs": [],
   "source": [
    "#Declare 5 as num_one and 4 as num_two\n",
    "num_one = 5\n",
    "num_two = 4"
   ]
  },
  {
   "cell_type": "code",
   "execution_count": 60,
   "metadata": {},
   "outputs": [
    {
     "name": "stdout",
     "output_type": "stream",
     "text": [
      "9\n"
     ]
    }
   ],
   "source": [
    "#Add num_one and num_two and assign the value to a variable total\n",
    "num_one = 5\n",
    "num_two = 4\n",
    "total_num = 5 + 4\n",
    "print(total_num)"
   ]
  },
  {
   "cell_type": "code",
   "execution_count": 61,
   "metadata": {},
   "outputs": [
    {
     "name": "stdout",
     "output_type": "stream",
     "text": [
      "-1\n"
     ]
    }
   ],
   "source": [
    "#Subtract num_two from num_one and assign the value to a variable diff\n",
    "num_one = 5\n",
    "num_two = 4\n",
    "diff = 4 - 5\n",
    "print(diff)"
   ]
  },
  {
   "cell_type": "code",
   "execution_count": 62,
   "metadata": {},
   "outputs": [
    {
     "name": "stdout",
     "output_type": "stream",
     "text": [
      "20\n"
     ]
    }
   ],
   "source": [
    "#Multiply num_two and num_one and assign the value to a variable product\n",
    "num_one = 5\n",
    "num_two = 4\n",
    "product = 4 * 5\n",
    "print(product)"
   ]
  },
  {
   "cell_type": "code",
   "execution_count": 63,
   "metadata": {},
   "outputs": [
    {
     "name": "stdout",
     "output_type": "stream",
     "text": [
      "0\n"
     ]
    }
   ],
   "source": [
    "#Divide num_one by num_two and assign the value to a variable division\n",
    "num_one = 5\n",
    "num_two = 4\n",
    "division = 4 // 5\n",
    "print(division)"
   ]
  },
  {
   "cell_type": "code",
   "execution_count": 64,
   "metadata": {},
   "outputs": [
    {
     "name": "stdout",
     "output_type": "stream",
     "text": [
      "0.8\n"
     ]
    }
   ],
   "source": [
    "#Use modulus division to find num_two divided by num_one and assign the value to a variable remainder\n",
    "num_one = 5\n",
    "num_two = 4\n",
    "division_remain = 4 /5\n",
    "print(division_remain)"
   ]
  },
  {
   "cell_type": "code",
   "execution_count": 65,
   "metadata": {},
   "outputs": [
    {
     "name": "stdout",
     "output_type": "stream",
     "text": [
      "1024\n"
     ]
    }
   ],
   "source": [
    "#Calculate num_one to the power of num_two and assign the value to a variable exp\n",
    "num_one = 5\n",
    "num_two = 4\n",
    "exp = (num_two ** num_one)\n",
    "print(exp)"
   ]
  },
  {
   "cell_type": "code",
   "execution_count": 66,
   "metadata": {},
   "outputs": [
    {
     "name": "stdout",
     "output_type": "stream",
     "text": [
      "1\n"
     ]
    }
   ],
   "source": [
    "#Find floor division of num_one by num_two and assign the value to a variable floor_division\n",
    "num_one = 5\n",
    "num_two = 4\n",
    "floor_division = (num_one // num_two)\n",
    "print(floor_division)"
   ]
  },
  {
   "cell_type": "markdown",
   "metadata": {},
   "source": [
    "### The radius of a circle is 30 meters.\n",
    "1. Calculate the area of a circle and assign the value to a variable name of area_of_circle\n",
    "2. Calculate the circumference of a circle and assign the value to a variable name of circum_of_circle\n",
    "3. Take radius as user input and calculate the area."
   ]
  },
  {
   "cell_type": "code",
   "execution_count": null,
   "metadata": {},
   "outputs": [
    {
     "name": "stdout",
     "output_type": "stream",
     "text": [
      "2826.0\n",
      "188.4\n",
      "_________________________\n"
     ]
    }
   ],
   "source": [
    "\n",
    "#1. Calculate the area of a circle and assign the value to a variable name of _area_of_circle_\n",
    "#SOLUTION\n",
    "#AREA OF A CYCLE IS GIVEN AS A=πr2 (A = 22/7 * r**2)\n",
    "#where \n",
    "r = 30\n",
    "π = 3.14\n",
    "area_of_cycle = (π * r **2)\n",
    "print(area_of_cycle)\n",
    "\n",
    "#2. Calculate the circumference of a circle and assign the value to a variable name of _circum_of_circle_\n",
    "#SOLUTION\n",
    "#CIRCUMFERENCE OF A CYCLE IS GIVEN AS C=2πr\n",
    "π = 3.14\n",
    "c = \"?\"\n",
    "r = 30\n",
    "circum_of_cycle = (2 * π * r)\n",
    "print(circum_of_cycle)\n",
    "print(\"_________________________\")\n",
    "\n",
    "#3. Take radius as user input and calculate the area.\n",
    "user_input = int(input(\"PLEASE PROVIDE THE VALUE OF r\"))\n",
    "print(2 * π * user_input)\n"
   ]
  },
  {
   "cell_type": "code",
   "execution_count": null,
   "metadata": {},
   "outputs": [],
   "source": [
    "#Use the built-in input function to get first name, last name, country and age from a user and store the value to their corresponding variable names\n",
    "my_name = input(\"Enter your first name: \").upper()\n",
    "my_last_name = input(\"Enter your last name: \").upper()\n",
    "my_age  = input('Enter your age: ')\n",
    "print(f'First Name: {my_name}')\n",
    "print(f'Last Name: {my_last_name}')\n",
    "print(f'Age: {my_age}')\n",
    "\n"
   ]
  },
  {
   "cell_type": "code",
   "execution_count": null,
   "metadata": {},
   "outputs": [
    {
     "name": "stdout",
     "output_type": "stream",
     "text": [
      "Help on module keyword:\n",
      "\n",
      "NAME\n",
      "    keyword - Keywords (from \"Grammar/python.gram\")\n",
      "\n",
      "MODULE REFERENCE\n",
      "    https://docs.python.org/3.13/library/keyword.html\n",
      "\n",
      "    The following documentation is automatically generated from the Python\n",
      "    source files.  It may be incomplete, incorrect or include features that\n",
      "    are considered implementation detail and may vary between Python\n",
      "    implementations.  When in doubt, consult the module reference at the\n",
      "    location listed above.\n",
      "\n",
      "DESCRIPTION\n",
      "    This file is automatically generated; please don't muck it up!\n",
      "\n",
      "    To update the symbols in this file, 'cd' to the top directory of\n",
      "    the python source tree and run:\n",
      "\n",
      "        PYTHONPATH=Tools/peg_generator python3 -m pegen.keywordgen         Grammar/python.gram         Grammar/Tokens         Lib/keyword.py\n",
      "\n",
      "    Alternatively, you can run 'make regen-keyword'.\n",
      "\n",
      "FUNCTIONS\n",
      "    iskeyword = __contains__(object, /) method of builtins.frozenset instance\n",
      "        x.__contains__(y) <==> y in x.\n",
      "\n",
      "    issoftkeyword = __contains__(object, /) method of builtins.frozenset instance\n",
      "        x.__contains__(y) <==> y in x.\n",
      "\n",
      "DATA\n",
      "    __all__ = ['iskeyword', 'issoftkeyword', 'kwlist', 'softkwlist']\n",
      "    kwlist = ['False', 'None', 'True', 'and', 'as', 'assert', 'async', 'aw...\n",
      "    softkwlist = ['_', 'case', 'match', 'type']\n",
      "\n",
      "FILE\n",
      "    c:\\users\\ncc\\appdata\\local\\programs\\python\\python313\\lib\\keyword.py\n",
      "\n",
      "\n"
     ]
    }
   ],
   "source": [
    "#Run help('keywords') in Python shell or in your file to check for the Python reserved words or keywords\n",
    "help('keyword')"
   ]
  }
 ],
 "metadata": {
  "kernelspec": {
   "display_name": "Python 3",
   "language": "python",
   "name": "python3"
  },
  "language_info": {
   "codemirror_mode": {
    "name": "ipython",
    "version": 3
   },
   "file_extension": ".py",
   "mimetype": "text/x-python",
   "name": "python",
   "nbconvert_exporter": "python",
   "pygments_lexer": "ipython3",
   "version": "3.13.0"
  }
 },
 "nbformat": 4,
 "nbformat_minor": 2
}
