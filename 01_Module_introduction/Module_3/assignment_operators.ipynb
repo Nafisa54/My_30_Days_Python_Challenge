{
 "cells": [
  {
   "cell_type": "markdown",
   "metadata": {},
   "source": [
    "## THIS SECTION DOCUMENTS MY MODULE (3) OF 30-DAYS OF PYTHON PROGRAMMING CHALLENGE\n"
   ]
  },
  {
   "cell_type": "code",
   "execution_count": null,
   "metadata": {},
   "outputs": [],
   "source": [
    "#💻Exercises - Module 3\n",
    "\n",
    "#Declare your age as integer variable\n",
    "age = 24"
   ]
  },
  {
   "cell_type": "code",
   "execution_count": 2,
   "metadata": {},
   "outputs": [],
   "source": [
    "#Declare your height as a float variable\n",
    "height = 5.4"
   ]
  },
  {
   "cell_type": "code",
   "execution_count": 3,
   "metadata": {},
   "outputs": [],
   "source": [
    "#Declare a variable that store a complex number\n",
    "num_complex = 16 + 3j"
   ]
  },
  {
   "cell_type": "code",
   "execution_count": 7,
   "metadata": {},
   "outputs": [
    {
     "name": "stdout",
     "output_type": "stream",
     "text": [
      "100.0\n",
      "100.0\n"
     ]
    }
   ],
   "source": [
    "#Write a script that prompts the user to enter base and height of the triangle and calculate an area of this triangle (area = 0.5 x b x h).\n",
    "\n",
    "b = int(input(\"Enter the Base Value\"))\n",
    "h = int(input(\"Enter the height Value\"))\n",
    "area = 0.5\n",
    "print(area * b * h)\n",
    "print(0.5 * b * h)"
   ]
  },
  {
   "cell_type": "code",
   "execution_count": 8,
   "metadata": {},
   "outputs": [
    {
     "name": "stdout",
     "output_type": "stream",
     "text": [
      " the perimeter of the triangle 12\n"
     ]
    }
   ],
   "source": [
    "#Write a script that prompts the user to enter side a, side b, and side c of the triangle. Calculate the perimeter of the triangle (perimeter = a + b + c).\n",
    "\n",
    "a = int(input(\"Enter the side of the triangle a of a :\"))\n",
    "b = int(input(\"Enter the side of the triangle b of a :\"))\n",
    "c = int(input(\"Enter the side of the triangle c of a :\"))\n",
    "perimeter_tri = (a + b + c ) \n",
    "print(f\" the perimeter of the triangle {perimeter_tri}\")\n",
    "                      \n"
   ]
  },
  {
   "cell_type": "code",
   "execution_count": 12,
   "metadata": {},
   "outputs": [
    {
     "name": "stdout",
     "output_type": "stream",
     "text": [
      "The area of the rectangle is 50\n",
      "The perimeter of the rectangle is 30\n"
     ]
    }
   ],
   "source": [
    "#Get length and width of a rectangle using prompt. \n",
    "# Calculate its area (area = length x width) and \n",
    "# perimeter (perimeter = 2 x (length + width))\n",
    "length = int(input(\"Enter the length of the rectangle :\"))\n",
    "\n",
    "width = int(input(\"Enter the width of the rectangle :\"))\n",
    "\n",
    "area_rectangle = length * width\n",
    "\n",
    "perimeter_rectangle = 2 * (length + width)\n",
    "\n",
    "print(f\"The area of the rectangle is {area_rectangle}\")\n",
    "\n",
    "print(f\"The perimeter of the rectangle is {perimeter_rectangle}\")\n"
   ]
  },
  {
   "cell_type": "code",
   "execution_count": 18,
   "metadata": {},
   "outputs": [
    {
     "name": "stdout",
     "output_type": "stream",
     "text": [
      "Area of the circle: 30.959144000000002\n",
      "Circumference of the circle: 19.7192\n"
     ]
    }
   ],
   "source": [
    "#Get radius of a circle using prompt.\n",
    "#Calculate the area (area = pi x r x r) and\n",
    "#circumference (c = 2 x pi x r) where pi = 3.14.\n",
    "\n",
    "r  = float (input(\"Enter the radius of a circle :\"))\n",
    "pi  = 3.14 \n",
    "area_of_circle = p * r * r\n",
    "circumference = (2 * pi * r)\n",
    "\n",
    "print(f\"Area of the circle: {area_of_circle}\")\n",
    "print(f\"Circumference of the circle: {circumference}\")\n",
    "\n"
   ]
  },
  {
   "cell_type": "code",
   "execution_count": null,
   "metadata": {},
   "outputs": [],
   "source": []
  },
  {
   "cell_type": "code",
   "execution_count": null,
   "metadata": {},
   "outputs": [],
   "source": []
  },
  {
   "cell_type": "code",
   "execution_count": null,
   "metadata": {},
   "outputs": [],
   "source": []
  },
  {
   "cell_type": "code",
   "execution_count": null,
   "metadata": {},
   "outputs": [],
   "source": []
  },
  {
   "cell_type": "code",
   "execution_count": null,
   "metadata": {},
   "outputs": [],
   "source": []
  }
 ],
 "metadata": {
  "kernelspec": {
   "display_name": "Python 3",
   "language": "python",
   "name": "python3"
  },
  "language_info": {
   "codemirror_mode": {
    "name": "ipython",
    "version": 3
   },
   "file_extension": ".py",
   "mimetype": "text/x-python",
   "name": "python",
   "nbconvert_exporter": "python",
   "pygments_lexer": "ipython3",
   "version": "3.13.0"
  }
 },
 "nbformat": 4,
 "nbformat_minor": 2
}
