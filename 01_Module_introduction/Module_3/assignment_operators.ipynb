{
 "cells": [
  {
   "cell_type": "markdown",
   "metadata": {},
   "source": [
    "## THIS SECTION DOCUMENTS MY MODULE (3) OF 30-DAYS OF PYTHON PROGRAMMING CHALLENGE\n"
   ]
  },
  {
   "cell_type": "code",
   "execution_count": null,
   "metadata": {},
   "outputs": [],
   "source": [
    "#💻Exercises - Module 3\n",
    "\n",
    "#Declare your age as integer variable\n",
    "age = 24"
   ]
  },
  {
   "cell_type": "code",
   "execution_count": 2,
   "metadata": {},
   "outputs": [],
   "source": [
    "#Declare your height as a float variable\n",
    "height = 5.4"
   ]
  },
  {
   "cell_type": "code",
   "execution_count": 3,
   "metadata": {},
   "outputs": [],
   "source": [
    "#Declare a variable that store a complex number\n",
    "num_complex = 16 + 3j"
   ]
  },
  {
   "cell_type": "code",
   "execution_count": 7,
   "metadata": {},
   "outputs": [
    {
     "name": "stdout",
     "output_type": "stream",
     "text": [
      "100.0\n",
      "100.0\n"
     ]
    }
   ],
   "source": [
    "#Write a script that prompts the user to enter base and height of the triangle and calculate an area of this triangle (area = 0.5 x b x h).\n",
    "\n",
    "b = int(input(\"Enter the Base Value\"))\n",
    "h = int(input(\"Enter the height Value\"))\n",
    "area = 0.5\n",
    "print(area * b * h)\n",
    "print(0.5 * b * h)"
   ]
  },
  {
   "cell_type": "code",
   "execution_count": 8,
   "metadata": {},
   "outputs": [
    {
     "name": "stdout",
     "output_type": "stream",
     "text": [
      " the perimeter of the triangle 12\n"
     ]
    }
   ],
   "source": [
    "#Write a script that prompts the user to enter side a, side b, and side c of the triangle. Calculate the perimeter of the triangle (perimeter = a + b + c).\n",
    "\n",
    "a = int(input(\"Enter the side of the triangle a of a :\"))\n",
    "b = int(input(\"Enter the side of the triangle b of a :\"))\n",
    "c = int(input(\"Enter the side of the triangle c of a :\"))\n",
    "perimeter_tri = (a + b + c ) \n",
    "print(f\" the perimeter of the triangle {perimeter_tri}\")\n",
    "                      \n"
   ]
  },
  {
   "cell_type": "code",
   "execution_count": 12,
   "metadata": {},
   "outputs": [
    {
     "name": "stdout",
     "output_type": "stream",
     "text": [
      "The area of the rectangle is 50\n",
      "The perimeter of the rectangle is 30\n"
     ]
    }
   ],
   "source": [
    "#Get length and width of a rectangle using prompt. \n",
    "# Calculate its area (area = length x width) and \n",
    "# perimeter (perimeter = 2 x (length + width))\n",
    "length = int(input(\"Enter the length of the rectangle :\"))\n",
    "\n",
    "width = int(input(\"Enter the width of the rectangle :\"))\n",
    "\n",
    "area_rectangle = length * width\n",
    "\n",
    "perimeter_rectangle = 2 * (length + width)\n",
    "\n",
    "print(f\"The area of the rectangle is {area_rectangle}\")\n",
    "\n",
    "print(f\"The perimeter of the rectangle is {perimeter_rectangle}\")\n"
   ]
  },
  {
   "cell_type": "code",
   "execution_count": 18,
   "metadata": {},
   "outputs": [
    {
     "name": "stdout",
     "output_type": "stream",
     "text": [
      "Area of the circle: 30.959144000000002\n",
      "Circumference of the circle: 19.7192\n"
     ]
    }
   ],
   "source": [
    "#Get radius of a circle using prompt.\n",
    "#Calculate the area (area = pi x r x r) and\n",
    "#circumference (c = 2 x pi x r) where pi = 3.14.\n",
    "\n",
    "r  = float (input(\"Enter the radius of a circle :\"))\n",
    "pi  = 3.14 \n",
    "area_of_circle = p * r * r\n",
    "circumference = (2 * pi * r)\n",
    "\n",
    "print(f\"Area of the circle: {area_of_circle}\")\n",
    "print(f\"Circumference of the circle: {circumference}\")\n",
    "\n"
   ]
  },
  {
   "cell_type": "code",
   "execution_count": null,
   "metadata": {},
   "outputs": [],
   "source": []
  },
  {
   "cell_type": "code",
   "execution_count": null,
   "metadata": {},
   "outputs": [],
   "source": []
  },
  {
   "cell_type": "code",
   "execution_count": null,
   "metadata": {},
   "outputs": [],
   "source": []
  },
  {
   "cell_type": "code",
   "execution_count": null,
   "metadata": {},
   "outputs": [],
   "source": []
  },
  {
   "cell_type": "code",
   "execution_count": null,
   "metadata": {},
   "outputs": [],
   "source": []
  },
  {
   "cell_type": "markdown",
   "metadata": {},
   "source": [
    "#### Find the length of 'python' and 'dragon' and make a falsy comparison statement"
   ]
  },
  {
   "cell_type": "code",
   "execution_count": 26,
   "metadata": {},
   "outputs": [
    {
     "name": "stdout",
     "output_type": "stream",
     "text": [
      "False\n",
      "False\n",
      "False\n"
     ]
    }
   ],
   "source": [
    "#Find the length of 'python' and 'dragon' \n",
    "length_python =len(\"python\")\n",
    "length_dragon =len(\"dragon\")\n",
    "\n",
    "# and make a falsy comparison statement.\n",
    "\n",
    "print(length_python!= length_dragon)\n",
    "print(length_python> length_dragon)\n",
    "print(length_python< length_dragon)\n",
    "\n",
    "\n",
    "\n"
   ]
  },
  {
   "cell_type": "markdown",
   "metadata": {},
   "source": [
    "#### I hope this course is not full of jargon. Use in operator to check if jargon is in the sentence."
   ]
  },
  {
   "cell_type": "code",
   "execution_count": 28,
   "metadata": {},
   "outputs": [
    {
     "name": "stdout",
     "output_type": "stream",
     "text": [
      "there is jargon in this sentence\n"
     ]
    }
   ],
   "source": [
    "sentence = \"i hope this course is not full of jargon\"\n",
    "find_jargon_sentence = \"jargon in this sentence\"\n",
    "print(f\"there is {find_jargon_sentence}\")"
   ]
  },
  {
   "cell_type": "markdown",
   "metadata": {},
   "source": [
    "#### There is no 'on' in both dragon and python"
   ]
  },
  {
   "cell_type": "code",
   "execution_count": 30,
   "metadata": {},
   "outputs": [
    {
     "name": "stdout",
     "output_type": "stream",
     "text": [
      "yes it can be found on the both\n"
     ]
    }
   ],
   "source": [
    "#There is no 'on' in both dragon and python\n",
    "if \"on\" in \" dragon\" and \"python \" :\n",
    "    print(\"yes it can be found on the both\")\n",
    "else :\n",
    " print(\"no it can be found\")\n"
   ]
  },
  {
   "cell_type": "markdown",
   "metadata": {},
   "source": [
    "#### Find the length of the text python and convert the value to float and convert it to string"
   ]
  },
  {
   "cell_type": "code",
   "execution_count": null,
   "metadata": {},
   "outputs": [
    {
     "name": "stdout",
     "output_type": "stream",
     "text": [
      "the length of the python is 6\n",
      "6.0\n",
      "6\n"
     ]
    }
   ],
   "source": [
    "#Find the length of the text python and \n",
    "\n",
    "length_python = len(\"Python\")\n",
    "print(f\"the length of the python is {length_python}\")\n",
    "\n",
    "# convert the value to float and\n",
    "print(float(length_python))\n",
    "\n",
    "#  convert it to string\n",
    "print(str(length_python))\n",
    "\n",
    "\n",
    "\n"
   ]
  },
  {
   "cell_type": "markdown",
   "metadata": {},
   "source": [
    "#### Even numbers are divisible by 2 and the remainder is zero. How do you check if a number is even or not using python?"
   ]
  },
  {
   "cell_type": "code",
   "execution_count": 51,
   "metadata": {},
   "outputs": [
    {
     "name": "stdout",
     "output_type": "stream",
     "text": [
      "12\n",
      "2\n",
      "10\n"
     ]
    }
   ],
   "source": [
    "#Even numbers are divisible by 2 and the remainder is zero. \n",
    "#An even number is a number that can divided itself exact evenly without a remainder.\n",
    "num_1div = 24 // 2 # floor division number\n",
    "num_2div = 4  // 2 # floor division  number\n",
    "num_3div = 100 // 10 # floor division number\n",
    "\n",
    "print(num_1div)\n",
    "print(num_2div)\n",
    "print(num_3div)\n",
    "\n",
    "\n",
    "# How do you check if a number is even or not using python?"
   ]
  },
  {
   "cell_type": "markdown",
   "metadata": {},
   "source": [
    "#### Check if the floor division of 7 by 3 is equal to the int converted value of 2.7."
   ]
  },
  {
   "cell_type": "code",
   "execution_count": 55,
   "metadata": {},
   "outputs": [
    {
     "name": "stdout",
     "output_type": "stream",
     "text": [
      "Yes, the numbers are equal\n"
     ]
    }
   ],
   "source": [
    "#Check if the floor division of 7 by 3 is equal to the int converted value of 2.7.\n",
    "num_division = 7 // 3\n",
    "if num_division == int(2.7) :\n",
    "    print(\"Yes, the numbers are equal\")\n",
    "else:\n",
    "    print(\"No, the numbers are not equal\")"
   ]
  },
  {
   "cell_type": "markdown",
   "metadata": {},
   "source": [
    "#### Check if type of '10' is equal to type of 10"
   ]
  },
  {
   "cell_type": "code",
   "execution_count": 56,
   "metadata": {},
   "outputs": [
    {
     "name": "stdout",
     "output_type": "stream",
     "text": [
      "False\n"
     ]
    }
   ],
   "source": [
    "#Check if type of '10' is equal to type of 10\n",
    "check_type = type('10') == type (10)\n",
    "print(check_type)"
   ]
  }
 ],
 "metadata": {
  "kernelspec": {
   "display_name": "Python 3",
   "language": "python",
   "name": "python3"
  },
  "language_info": {
   "codemirror_mode": {
    "name": "ipython",
    "version": 3
   },
   "file_extension": ".py",
   "mimetype": "text/x-python",
   "name": "python",
   "nbconvert_exporter": "python",
   "pygments_lexer": "ipython3",
   "version": "3.13.0"
  }
 },
 "nbformat": 4,
 "nbformat_minor": 2
}
