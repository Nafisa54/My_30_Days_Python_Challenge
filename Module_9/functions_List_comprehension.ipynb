{
 "cells": [
  {
   "cell_type": "markdown",
   "metadata": {},
   "source": [
    "#### 💻 Exercises: Module 9"
   ]
  },
  {
   "cell_type": "code",
   "execution_count": 2,
   "metadata": {},
   "outputs": [
    {
     "name": "stdout",
     "output_type": "stream",
     "text": [
      "The sum of two numbers is: 5\n"
     ]
    }
   ],
   "source": [
    "# Declare a function add_two_numbers. It takes two parameters and it returns a sum.\n",
    "def add_two_numbers(a, b):\n",
    "    print(\"The sum of two numbers is:\", a + b)\n",
    "add_two_numbers(2, 3)\n",
    "\n"
   ]
  },
  {
   "cell_type": "code",
   "execution_count": 3,
   "metadata": {},
   "outputs": [
    {
     "name": "stdout",
     "output_type": "stream",
     "text": [
      "The area of the circle is: 78.53975\n"
     ]
    }
   ],
   "source": [
    "# Area of a circle is calculated as follows: area = π x r x r. Write a function that calculates area_of_circle\n",
    "# It takes radius as a parameter and it returns the area of a circle with that radius.\n",
    "def area_of_circle(radius):\n",
    "    pi = 3.14159\n",
    "    area = pi * radius * radius\n",
    "    print(\"The area of the circle is:\", area)\n",
    "area_of_circle(5)\n"
   ]
  },
  {
   "cell_type": "code",
   "execution_count": 4,
   "metadata": {},
   "outputs": [
    {
     "name": "stdout",
     "output_type": "stream",
     "text": [
      "15\n"
     ]
    }
   ],
   "source": [
    "# Write a function called add_all_nums which takes arbitrary number of arguments and sums all the arguments. Check if all the list items are number types. If not do give a reasonable feedback.\n",
    "def add_all_nums(*args):\n",
    "    total = 0\n",
    "    for i in args:\n",
    "        if type(i) == int:\n",
    "            total += i\n",
    "        else:\n",
    "            return \"All list items are not numbers\"\n",
    "    return total\n",
    "print(add_all_nums(1, 2, 3, 4, 5))"
   ]
  },
  {
   "cell_type": "code",
   "execution_count": 5,
   "metadata": {},
   "outputs": [
    {
     "name": "stdout",
     "output_type": "stream",
     "text": [
      "The temperature in Fahrenheit is: 96.8\n"
     ]
    }
   ],
   "source": [
    "# Temperature in °C can be converted to °F using this formula: °F = (°C x 9/5) + 32. Write a function which converts °C to °F, convert_celsius_to-fahrenheit.\\\n",
    "def convert_celsius_to_fahrenheit(celsius): \n",
    "    fahrenheit = (celsius * 9/5) + 32\n",
    "    print(\"The temperature in Fahrenheit is:\", fahrenheit)\n",
    "convert_celsius_to_fahrenheit(36)\n",
    "\n"
   ]
  },
  {
   "cell_type": "code",
   "execution_count": 7,
   "metadata": {},
   "outputs": [
    {
     "name": "stdout",
     "output_type": "stream",
     "text": [
      "Winter\n"
     ]
    }
   ],
   "source": [
    "# Write a function called check-season, it takes a month parameter and returns the season: Autumn, Winter, Spring or Summer.\n",
    "\n",
    "def check_season(month):\n",
    "    if month in ['December', 'January', 'February']:\n",
    "        return \"Winter\"\n",
    "    elif month in ['March', 'April', 'May']:\n",
    "        return \"Spring\"\n",
    "    elif month in ['June', 'July', 'August']:\n",
    "        return \"Summer\"\n",
    "    elif month in ['September', 'October', 'November']:\n",
    "        return \"Autumn\"\n",
    "    else: \n",
    "        return \"Invalid month\"\n",
    "print(check_season(\"December\"))"
   ]
  },
  {
   "cell_type": "code",
   "execution_count": 9,
   "metadata": {},
   "outputs": [
    {
     "name": "stdout",
     "output_type": "stream",
     "text": [
      "The slope of the linear equation is: 1.0\n"
     ]
    }
   ],
   "source": [
    "# Write a function called calculate_slope which return the slope of a linear equation\n",
    "def calculate_slope(x1, y1, x2, y2):\n",
    "    slope = (y2 - y1) / (x2 - x1)\n",
    "    print(\"The slope of the linear equation is:\", slope)\n",
    "calculate_slope(2, 3, 5, 6)\n",
    "\n"
   ]
  },
  {
   "cell_type": "code",
   "execution_count": 11,
   "metadata": {},
   "outputs": [
    {
     "name": "stdout",
     "output_type": "stream",
     "text": [
      "The solution set of the quadratic equation is: 3.0 2.0\n"
     ]
    }
   ],
   "source": [
    "# Quadratic equation is calculated as follows: ax² + bx + c = 0. Write a function which calculates solution set of a quadratic equation, solve_quadratic_eqn\n",
    "def solve_quadratic_eqn(a, b, c):\n",
    "    delta = b**2 - 4*a*c\n",
    "    x1 = (-b + delta**0.5) / 2*a\n",
    "    x2 = (-b - delta**0.5) / 2*a\n",
    "    print(\"The solution set of the quadratic equation is:\", x1, x2)\n",
    "solve_quadratic_eqn(1, -5, 6)"
   ]
  },
  {
   "cell_type": "code",
   "execution_count": 12,
   "metadata": {},
   "outputs": [
    {
     "name": "stdout",
     "output_type": "stream",
     "text": [
      "1\n",
      "2\n",
      "3\n",
      "4\n",
      "5\n"
     ]
    }
   ],
   "source": [
    "# Declare a function named print_list. It takes a list as a parameter and it prints out each element of the list.\n",
    "def print_list(list):\n",
    "    for i in list:\n",
    "        print(i)\n",
    "print_list([1, 2, 3, 4, 5])\n"
   ]
  },
  {
   "cell_type": "code",
   "execution_count": 15,
   "metadata": {},
   "outputs": [
    {
     "name": "stdout",
     "output_type": "stream",
     "text": [
      "[5, 4, 3, 2, 1]\n"
     ]
    }
   ],
   "source": [
    "# Declare a function named reverse_list. It takes an array as a parameter and it returns the reverse of the array (use loops).\n",
    "# print(reverse_list([1, 2, 3, 4, 5]))\n",
    "# [5, 4, 3, 2, 1]\n",
    "#(reverse_list1([\"A\", \"B\", \"C\"]))\n",
    "# [\"C\", \"B\", \"A\"]\n",
    "def reverse_list(list):\n",
    "    reverse = []\n",
    "    for i in range(len(list)-1, -1, -1):\n",
    "        reverse.append(list[i])\n",
    "    return reverse\n",
    "print(reverse_list([1, 2, 3, 4, 5]))\n",
    "\n"
   ]
  },
  {
   "cell_type": "code",
   "execution_count": 16,
   "metadata": {},
   "outputs": [
    {
     "name": "stdout",
     "output_type": "stream",
     "text": [
      "['A', 'B', 'C', 'D']\n"
     ]
    }
   ],
   "source": [
    "# Declare a function named capitalize_list_items. It takes a list as a parameter and it returns a capitalized list of items\n",
    "def capitalize_list_items(list):\n",
    "    capitalized = []\n",
    "    for i in list:\n",
    "        capitalized.append(i.capitalize())\n",
    "    return capitalized\n",
    "print(capitalize_list_items([\"a\", \"b\", \"c\", \"d\"]))\n"
   ]
  },
  {
   "cell_type": "code",
   "execution_count": 18,
   "metadata": {},
   "outputs": [
    {
     "name": "stdout",
     "output_type": "stream",
     "text": [
      "['Potato', 'Tomato', 'Mango', 'Milk', 'Meat']\n",
      "[2, 3, 7, 9, 5]\n"
     ]
    }
   ],
   "source": [
    "# Declare a function named add_item. It takes a list and an item parameters. It returns a list with the item added at the end.\n",
    "# food_staff = ['Potato', 'Tomato', 'Mango', 'Milk']\n",
    "# print(add_item(food_staff, 'Meat'))     # ['Potato', 'Tomato', 'Mango', 'Milk','Meat']\n",
    "# numbers = [2, 3, 7, 9]\n",
    "# print(add_item(numbers, 5))      [2, 3, 7, 9, 5]\n",
    "def add_item(list, item):\n",
    "    list.append(item)\n",
    "    return list\n",
    "food_staff = ['Potato', 'Tomato', 'Mango', 'Milk']\n",
    "print(add_item(food_staff, 'Meat'))\n",
    "numbers = [2, 3, 7, 9]\n",
    "print(add_item(numbers, 5))\n",
    "\n"
   ]
  },
  {
   "cell_type": "code",
   "execution_count": 19,
   "metadata": {},
   "outputs": [
    {
     "name": "stdout",
     "output_type": "stream",
     "text": [
      "['Potato', 'Tomato', 'Milk']\n",
      "[2, 7, 9]\n"
     ]
    }
   ],
   "source": [
    "# Declare a function named remove_item. It takes a list and an item parameters. It returns a list with the item removed from it.\n",
    "# food_staff = ['Potato', 'Tomato', 'Mango', 'Milk']\n",
    "# print(remove_item(food_staff, 'Mango'))  # ['Potato', 'Tomato', 'Milk'];\n",
    "# numbers = [2, 3, 7, 9]\n",
    "# print(remove_item(numbers, 3))  # [2, 7, 9]\n",
    "def remove_item(list, item):\n",
    "    list.remove(item)\n",
    "    return list\n",
    "food_staff = ['Potato', 'Tomato', 'Mango', 'Milk']\n",
    "\n",
    "print(remove_item(food_staff, 'Mango'))\n",
    "\n",
    "numbers = [2, 3, 7, 9]\n",
    "print(remove_item(numbers, 3))\n"
   ]
  },
  {
   "cell_type": "code",
   "execution_count": 20,
   "metadata": {},
   "outputs": [
    {
     "name": "stdout",
     "output_type": "stream",
     "text": [
      "15\n",
      "55\n",
      "5050\n"
     ]
    }
   ],
   "source": [
    "# Declare a function named sum_of_numbers. It takes a number parameter and it adds all the numbers in that range.\n",
    "# print(sum_of_numbers(5))  # 15\n",
    "# print(sum_of_numbers(10)) # 55\n",
    "# print(sum_of_numbers(100)) # 5050\n",
    "def sum_of_numbers(n):\n",
    "    total = 0\n",
    "    for i in range(n+1):\n",
    "        total += i\n",
    "    return total\n",
    "print(sum_of_numbers(5))\n",
    "print(sum_of_numbers(10))\n",
    "print(sum_of_numbers(100))\n"
   ]
  },
  {
   "cell_type": "code",
   "execution_count": 23,
   "metadata": {},
   "outputs": [
    {
     "name": "stdout",
     "output_type": "stream",
     "text": [
      "9\n",
      "25\n",
      "2500\n"
     ]
    }
   ],
   "source": [
    "# Declare a function named sum_of_odds. It takes a number parameter and it adds all the odd numbers in that range.\n",
    "# print(sum_of_odds(5))  # 9\n",
    "# print(sum_of_odds(10)) # 25\n",
    "# print(sum_of_odds(100)) # 2500\n",
    "def sum_of_odds(n):\n",
    "    total = 0\n",
    "    for i in range(1, n+1, 2):\n",
    "        total += i\n",
    "    return total\n",
    "print(sum_of_odds(5))\n",
    "print(sum_of_odds(10))\n",
    "print(sum_of_odds(100))\n",
    "\n"
   ]
  },
  {
   "cell_type": "code",
   "execution_count": 24,
   "metadata": {},
   "outputs": [
    {
     "name": "stdout",
     "output_type": "stream",
     "text": [
      "6\n",
      "30\n",
      "2550\n"
     ]
    }
   ],
   "source": [
    "# Declare a function named sum_of_even. It takes a number parameter and it adds all the even numbers in that - range.\n",
    "# print(sum_of_even(5))  # 6\n",
    "# print(sum_of_even(10)) # 30\n",
    "# print(sum_of_even(100)) # 2550\n",
    "def sum_of_even(n):\n",
    "    total = 0\n",
    "    for i in range(0, n+1, 2):\n",
    "        total += i\n",
    "    return total\n",
    "print(sum_of_even(5))\n",
    "print(sum_of_even(10))\n",
    "print(sum_of_even(100))\n",
    "\n",
    "\n"
   ]
  },
  {
   "cell_type": "markdown",
   "metadata": {},
   "source": [
    "#### Exercises: Level 2"
   ]
  },
  {
   "cell_type": "code",
   "execution_count": 25,
   "metadata": {},
   "outputs": [
    {
     "name": "stdout",
     "output_type": "stream",
     "text": [
      "('The number of odds are', 50, 'The number of evens are', 51)\n"
     ]
    }
   ],
   "source": [
    "# Declare a function named evens_and_odds . It takes a positive integer as parameter and it counts number of evens and odds in the number.\n",
    "#  print(evens_and_odds(100))\n",
    "    # The number of odds are 50.\n",
    "    # The number of evens are 51.\n",
    "def evens_and_odds(n):\n",
    "    evens = 0\n",
    "    odds = 0\n",
    "    for i in range(n+1):\n",
    "        if i % 2 == 0:\n",
    "            evens += 1\n",
    "        else:\n",
    "            odds += 1\n",
    "    return \"The number of odds are\", odds, \"The number of evens are\", evens\n",
    "print(evens_and_odds(100))\n"
   ]
  },
  {
   "cell_type": "code",
   "execution_count": 26,
   "metadata": {},
   "outputs": [
    {
     "name": "stdout",
     "output_type": "stream",
     "text": [
      "120\n"
     ]
    }
   ],
   "source": [
    "# Call your function factorial, it takes a whole number as a parameter and it return a factorial of the number\n",
    "def factorial(n):\n",
    "    fact = 1\n",
    "    for i in range(1, n+1):\n",
    "        fact *= i\n",
    "    return fact\n",
    "print(factorial(5))\n"
   ]
  },
  {
   "cell_type": "code",
   "execution_count": 27,
   "metadata": {},
   "outputs": [
    {
     "name": "stdout",
     "output_type": "stream",
     "text": [
      "False\n",
      "True\n",
      "True\n"
     ]
    }
   ],
   "source": [
    "# Call your function is_empty, it takes a parameter and it checks if it is empty or not\n",
    "def is_empty(param):\n",
    "    if len(param) == 0:\n",
    "        return True\n",
    "    else:\n",
    "        return False\n",
    "print(is_empty(\"hello\"))\n",
    "print(is_empty(\"\"))\n",
    "print(is_empty([]))\n"
   ]
  },
  {
   "cell_type": "code",
   "execution_count": 28,
   "metadata": {},
   "outputs": [
    {
     "name": "stdout",
     "output_type": "stream",
     "text": [
      "3.0\n",
      "3\n",
      "4\n",
      "2.0\n",
      "1.4142135623730951\n"
     ]
    }
   ],
   "source": [
    "# Write different functions which take lists. They should calculate_mean, calculate_median, calculate_mode, calculate_range, calculate_variance, calculate_std (standard deviation).\n",
    "def calculate_mean(list):\n",
    "    total = 0\n",
    "    for i in list:\n",
    "        total += i\n",
    "    return total / len(list)\n",
    "print(calculate_mean([1, 2, 3, 4, 5]))\n",
    "\n",
    "def calculate_median(list):\n",
    "    list.sort()\n",
    "    if len(list) % 2 == 0:\n",
    "        median = (list[len(list)//2] + list[len(list)//2 - 1]) / 2\n",
    "    else:\n",
    "        median = list[len(list)//2]\n",
    "    return median\n",
    "print(calculate_median([1, 2, 3, 4, 5]))\n",
    "\n",
    "def calculate_mode(list):\n",
    "    mode = max(set(list), key = list.count)\n",
    "    return mode\n",
    "\n",
    "def calculate_range(list):\n",
    "    return max(list) - min(list)\n",
    "print(calculate_range([1, 2, 3, 4, 5]))\n",
    "\n",
    "def calculate_variance(list):\n",
    "    mean = calculate_mean(list)\n",
    "    variance = sum((i - mean) ** 2 for i in list) / len(list)\n",
    "    return variance\n",
    "print(calculate_variance([1, 2, 3, 4, 5]))\n",
    "\n",
    "def calculate_std(list):\n",
    "    return calculate_variance(list) ** 0.5\n",
    "print(calculate_std([1, 2, 3, 4, 5]))\n"
   ]
  },
  {
   "cell_type": "markdown",
   "metadata": {},
   "source": [
    "#### Exercises: Level 3"
   ]
  },
  {
   "cell_type": "code",
   "execution_count": 29,
   "metadata": {},
   "outputs": [
    {
     "name": "stdout",
     "output_type": "stream",
     "text": [
      "True\n",
      "False\n"
     ]
    }
   ],
   "source": [
    "# Write a function called is_prime, which checks if a number is prime.\n",
    "def is_prime(n):\n",
    "    if n < 2:\n",
    "        return False\n",
    "    for i in range(2, n):\n",
    "        if n % i == 0:\n",
    "            return False\n",
    "    return True\n",
    "print(is_prime(7))\n",
    "print(is_prime(10))\n"
   ]
  },
  {
   "cell_type": "code",
   "execution_count": 30,
   "metadata": {},
   "outputs": [
    {
     "name": "stdout",
     "output_type": "stream",
     "text": [
      "True\n",
      "False\n"
     ]
    }
   ],
   "source": [
    "# Write a functions which checks if all items are unique in the list.\n",
    "def is_unique(list):\n",
    "    if len(list) == len(set(list)):\n",
    "        return True\n",
    "    else:\n",
    "        return False\n",
    "print(is_unique([1, 2, 3, 4, 5]))\n",
    "print(is_unique([1, 2, 3, 4, 4]))\n"
   ]
  },
  {
   "cell_type": "code",
   "execution_count": 31,
   "metadata": {},
   "outputs": [
    {
     "name": "stdout",
     "output_type": "stream",
     "text": [
      "True\n",
      "False\n",
      "True\n"
     ]
    }
   ],
   "source": [
    "# Write a function which checks if all the items of the list are of the same data type.\n",
    "def same_data_type(list):\n",
    "    return all(type(i) == type(list[0]) for i in list)\n",
    "print(same_data_type([1, 2, 3, 4, 5]))\n",
    "print(same_data_type([1, 2, 3, 4, \"5\"]))\n",
    "print(same_data_type([\"1\", \"2\", \"3\", \"4\", \"5\"]))\n"
   ]
  },
  {
   "cell_type": "code",
   "execution_count": 32,
   "metadata": {},
   "outputs": [
    {
     "name": "stdout",
     "output_type": "stream",
     "text": [
      "True\n",
      "False\n",
      "False\n",
      "True\n"
     ]
    }
   ],
   "source": [
    "# Write a function which check if provided variable is a valid python variable\n",
    "\n",
    "def is_valid_variable_name(name):\n",
    "    if not name.isidentifier():\n",
    "        return False\n",
    "    if name[0].isdigit():\n",
    "        return False\n",
    "    return True\n",
    "print(is_valid_variable_name(\"hello\"))\n",
    "print(is_valid_variable_name(\"1hello\"))\n",
    "print(is_valid_variable_name(\"hello world\"))\n",
    "print(is_valid_variable_name(\"hello_world\"))\n"
   ]
  },
  {
   "cell_type": "code",
   "execution_count": 49,
   "metadata": {},
   "outputs": [
    {
     "ename": "ImportError",
     "evalue": "cannot import name 'countries' from 'countries_data' (c:\\Users\\NCC\\Desktop\\My_30_Days_Python_Challenge\\Module_9\\countries_data.py)",
     "output_type": "error",
     "traceback": [
      "\u001b[1;31m---------------------------------------------------------------------------\u001b[0m",
      "\u001b[1;31mImportError\u001b[0m                               Traceback (most recent call last)",
      "Cell \u001b[1;32mIn[49], line 5\u001b[0m\n\u001b[0;32m      1\u001b[0m \u001b[38;5;66;03m# Go to the data folder and access the countries-data.py file.\u001b[39;00m\n\u001b[0;32m      2\u001b[0m \u001b[38;5;66;03m# Create a function called the most_spoken_languages in the world. It should return 10 or 20 most spoken languages in the world in descending order\u001b[39;00m\n\u001b[0;32m      3\u001b[0m \u001b[38;5;66;03m# Create a function called the most_populated_countries. It should return 10 or 20 most populated countries in descending order.\u001b[39;00m\n\u001b[1;32m----> 5\u001b[0m \u001b[38;5;28;01mfrom\u001b[39;00m \u001b[38;5;21;01mcountries_data\u001b[39;00m \u001b[38;5;28;01mimport\u001b[39;00m countries\n\u001b[0;32m      7\u001b[0m \u001b[38;5;28;01mdef\u001b[39;00m \u001b[38;5;21mmost_spoken_languages\u001b[39m(n):\n\u001b[0;32m      8\u001b[0m     languages \u001b[38;5;241m=\u001b[39m []\n",
      "\u001b[1;31mImportError\u001b[0m: cannot import name 'countries' from 'countries_data' (c:\\Users\\NCC\\Desktop\\My_30_Days_Python_Challenge\\Module_9\\countries_data.py)"
     ]
    }
   ],
   "source": [
    "# Go to the data folder and access the countries-data.py file.\n",
    "# Create a function called the most_spoken_languages in the world. It should return 10 or 20 most spoken languages in the world in descending order\n",
    "# Create a function called the most_populated_countries. It should return 10 or 20 most populated countries in descending order.\n",
    "\n",
    "from countries_data import countries\n",
    "\n",
    "def most_spoken_languages(n):\n",
    "    languages = []\n",
    "    for country in countries:\n",
    "        for language in country[\"languages\"]:\n",
    "            languages.append(language)\n",
    "    languages = {i: languages.count(i) for i in languages}\n",
    "    languages = dict(sorted(languages.items(), key = lambda item: item[1], reverse = True))\n",
    "    return list(languages.keys())[:n]\n",
    "\n",
    "def most_populated_countries(n):\n",
    "    countries_pop = {i[\"name\"]: i[\"population\"] for i in countries}\n",
    "    countries_pop = dict(sorted(countries_pop.items(), key = lambda item: item[1], reverse = True))\n",
    "    return list(countries_pop.keys())[:n]\n",
    "\n",
    "print(most_spoken_languages(10))\n",
    "print(most_populated_countries(10))\n",
    "\n"
   ]
  },
  {
   "cell_type": "markdown",
   "metadata": {},
   "source": [
    "#### 💻 List Comprehensions Exercises"
   ]
  },
  {
   "cell_type": "code",
   "execution_count": 37,
   "metadata": {},
   "outputs": [
    {
     "name": "stdout",
     "output_type": "stream",
     "text": [
      "[-4, -3, -2, -1, 0]\n"
     ]
    }
   ],
   "source": [
    "# Filter only negative and zero in the list using list comprehension\n",
    "# numbers = [-4, -3, -2, -1, 0, 2, 4, 6]\n",
    "numbers = [-4, -3, -2, -1, 0, 2, 4, 6]\n",
    "negative = [i for i in numbers if i <= 0]\n",
    "print(negative)\n"
   ]
  },
  {
   "cell_type": "code",
   "execution_count": 38,
   "metadata": {},
   "outputs": [
    {
     "name": "stdout",
     "output_type": "stream",
     "text": [
      "[1, 2, 3, 4, 5, 6, 7, 8, 9]\n"
     ]
    }
   ],
   "source": [
    "# Flatten the following list of lists of lists to a one dimensional list :\n",
    "# list_of_lists =[[[1, 2, 3]], [[4, 5, 6]], [[7, 8, 9]]]\n",
    "# output\n",
    "# [1, 2, 3, 4, 5, 6, 7, 8, 9]\n",
    "list_of_lists =[[[1, 2, 3]], [[4, 5, 6]], [[7, 8, 9]]]\n",
    "flat_list = [i for sublist in list_of_lists for subsublist in sublist for i in subsublist]\n",
    "print(flat_list)\n"
   ]
  },
  {
   "cell_type": "code",
   "execution_count": 39,
   "metadata": {},
   "outputs": [
    {
     "name": "stdout",
     "output_type": "stream",
     "text": [
      "[(0, 1, 0, 0, 0, 0, 0), (1, 1, 1, 1, 1, 1, 1), (2, 1, 2, 4, 8, 16, 32), (3, 1, 3, 9, 27, 81, 243), (4, 1, 4, 16, 64, 256, 1024), (5, 1, 5, 25, 125, 625, 3125), (6, 1, 6, 36, 216, 1296, 7776), (7, 1, 7, 49, 343, 2401, 16807), (8, 1, 8, 64, 512, 4096, 32768), (9, 1, 9, 81, 729, 6561, 59049), (10, 1, 10, 100, 1000, 10000, 100000)]\n"
     ]
    }
   ],
   "source": [
    "# Using list comprehension create the following list of tuples:\n",
    "# [(0, 1, 0, 0, 0, 0, 0),\n",
    "# (1, 1, 1, 1, 1, 1, 1),\n",
    "# (2, 1, 2, 4, 8, 16, 32),\n",
    "# (3, 1, 3, 9, 27, 81, 243),\n",
    "# (4, 1, 4, 16, 64, 256, 1024),\n",
    "# (5, 1, 5, 25, 125, 625, 3125),\n",
    "# (6, 1, 6, 36, 216, 1296, 7776),\n",
    "# (7, 1, 7, 49, 343, 2401, 16807),\n",
    "# (8, 1, 8, 64, 512, 4096, 32768),\n",
    "# (9, 1, 9, 81, 729, 6561, 59049),\n",
    "# (10, 1, 10, 100, 1000, 10000, 100000)]\n",
    "list_of_tuples = [(i, 1, i, i**2, i**3, i**4, i**5) for i in range(11)]\n",
    "print(list_of_tuples)\n"
   ]
  },
  {
   "cell_type": "code",
   "execution_count": 41,
   "metadata": {},
   "outputs": [
    {
     "name": "stdout",
     "output_type": "stream",
     "text": [
      "[['FINLAND', 'FIN', 'HELSINKI'], ['SWEDEN', 'SWE', 'STOCKHOLM'], ['NORWAY', 'NOR', 'OSLO']]\n"
     ]
    }
   ],
   "source": [
    "# Flatten the following list to a new list:\n",
    "# countries = [[('Finland', 'Helsinki')], [('Sweden', 'Stockholm')], [('Norway', 'Oslo')]]\n",
    "# output:\n",
    "# [['FINLAND','FIN', 'HELSINKI'], ['SWEDEN', 'SWE', 'STOCKHOLM'], ['NORWAY', 'NOR', 'OSLO']]\n",
    "countries = [[('Finland', 'Helsinki')], [('Sweden', 'Stockholm')], [('Norway', 'Oslo')]]\n",
    "new_list = [[i[0].upper(), i[0][:3].upper(), i[1].upper()] for sublist in countries for i in sublist]\n",
    "print(new_list)\n",
    "\n"
   ]
  },
  {
   "cell_type": "code",
   "execution_count": 43,
   "metadata": {},
   "outputs": [
    {
     "name": "stdout",
     "output_type": "stream",
     "text": [
      "[{'country': 'FINLAND', 'city': 'HELSINKI'}, {'country': 'SWEDEN', 'city': 'STOCKHOLM'}, {'country': 'NORWAY', 'city': 'OSLO'}]\n"
     ]
    }
   ],
   "source": [
    "# Change the following list to a list of dictionaries:\n",
    "# countries = [[('Finland', 'Helsinki')], [('Sweden', 'Stockholm')], [('Norway', 'Oslo')]]\n",
    "# output:\n",
    "[{'country': 'FINLAND', 'city': 'HELSINKI'},\n",
    "{'country': 'SWEDEN', 'city': 'STOCKHOLM'},\n",
    "{'country': 'NORWAY', 'city': 'OSLO'}]\n",
    "countries = [[('Finland', 'Helsinki')], [('Sweden', 'Stockholm')], [('Norway', 'Oslo')]]\n",
    "new_list = [{\"country\": i[0].upper(), \"city\": i[1].upper()} for sublist in countries for i in sublist]\n",
    "print(new_list)\n"
   ]
  },
  {
   "cell_type": "code",
   "execution_count": 45,
   "metadata": {},
   "outputs": [
    {
     "name": "stdout",
     "output_type": "stream",
     "text": [
      "['Asabeneh Yetayeh', 'David Smith', 'Donald Trump', 'Bill Gates']\n"
     ]
    }
   ],
   "source": [
    "# Change the following list of lists to a list of concatenated strings:\n",
    "# names = [[('Asabeneh', 'Yetayeh')], [('David', 'Smith')], [('Donald', 'Trump')], [('Bill', 'Gates')]]\n",
    "# output\n",
    "# ['Asabeneh Yetaeyeh', 'David Smith', 'Donald Trump', 'Bill Gates']\n",
    "names = [[('Asabeneh', 'Yetayeh')], [('David', 'Smith')], [('Donald', 'Trump')], [('Bill', 'Gates')]]\n",
    "new_list = [\" \".join(i) for sublist in names for i in sublist]\n",
    "print(new_list)\n"
   ]
  },
  {
   "cell_type": "code",
   "execution_count": 46,
   "metadata": {},
   "outputs": [
    {
     "name": "stdout",
     "output_type": "stream",
     "text": [
      "13\n"
     ]
    }
   ],
   "source": [
    "# Write a lambda function which can solve a slope or y-intercept of linear functions.\n",
    "def linear_function(a, b):\n",
    "    return lambda x: a*x + b\n",
    "linear = linear_function(2, 3)\n",
    "print(linear(5))\n"
   ]
  },
  {
   "cell_type": "markdown",
   "metadata": {},
   "source": [
    "#### 🎉 CONGRATULATIONS ! 🎉"
   ]
  }
 ],
 "metadata": {
  "kernelspec": {
   "display_name": "Python 3",
   "language": "python",
   "name": "python3"
  },
  "language_info": {
   "codemirror_mode": {
    "name": "ipython",
    "version": 3
   },
   "file_extension": ".py",
   "mimetype": "text/x-python",
   "name": "python",
   "nbconvert_exporter": "python",
   "pygments_lexer": "ipython3",
   "version": "3.13.0"
  }
 },
 "nbformat": 4,
 "nbformat_minor": 2
}
