{
 "cells": [
  {
   "cell_type": "markdown",
   "metadata": {},
   "source": [
    "### 💻 Exercises - Module 4"
   ]
  },
  {
   "cell_type": "code",
   "execution_count": null,
   "metadata": {},
   "outputs": [],
   "source": [
    "# Concatenate the string 'Thirty', 'Days', 'Of', 'Python' to a single string, 'Thirty Days Of Python'.\n",
    "# Concatenate the string 'Coding', 'For' , 'All' to a single string, 'Coding For All'.\n",
    "# Declare a variable named company and assign it to an initial value \"Coding For All\".\n",
    "# Print the variable company using print().\n",
    "# Print the length of the company string using len() method and print().\n",
    "# Change all the characters to uppercase letters using upper() method.\n",
    "# Change all the characters to lowercase letters using lower() method.\n",
    "# Use capitalize(), title(), swapcase() methods to format the value of the string Coding For All.\n",
    "# Cut(slice) out the first word of Coding For All string."
   ]
  },
  {
   "cell_type": "code",
   "execution_count": 5,
   "metadata": {},
   "outputs": [
    {
     "name": "stdout",
     "output_type": "stream",
     "text": [
      "thirty Days of Python\n"
     ]
    }
   ],
   "source": [
    "# Concatenate the string 'Thirty', 'Days', 'Of', 'Python' to a single string, 'Thirty Days Of Python'.\n",
    "\n",
    "print(\"thirty \" + \"Days \" + \"of \" + \"Python\")\n"
   ]
  },
  {
   "cell_type": "code",
   "execution_count": 6,
   "metadata": {},
   "outputs": [
    {
     "name": "stdout",
     "output_type": "stream",
     "text": [
      "Coding For All\n"
     ]
    }
   ],
   "source": [
    "# Concatenate the string 'Coding', 'For' , 'All' to a single string, 'Coding For All'.\n",
    "\n",
    "print(\"Coding \" + \"For \" + \"All\")\n"
   ]
  },
  {
   "cell_type": "code",
   "execution_count": 7,
   "metadata": {},
   "outputs": [
    {
     "name": "stdout",
     "output_type": "stream",
     "text": [
      "Coding For All\n"
     ]
    }
   ],
   "source": [
    "# Declare a variable named company and assign it to an initial value \"Coding For All\".\n",
    "\n",
    "company = \"Coding For All\"\n",
    "print(company)"
   ]
  },
  {
   "cell_type": "code",
   "execution_count": 8,
   "metadata": {},
   "outputs": [
    {
     "name": "stdout",
     "output_type": "stream",
     "text": [
      "14\n"
     ]
    }
   ],
   "source": [
    "# Print the length of the company string using len() method and print().\n",
    "\n",
    "print(len(company))"
   ]
  },
  {
   "cell_type": "code",
   "execution_count": 9,
   "metadata": {},
   "outputs": [
    {
     "name": "stdout",
     "output_type": "stream",
     "text": [
      "CODING FOR ALL\n"
     ]
    }
   ],
   "source": [
    "# Change all the characters to uppercase letters using upper() method.\n",
    "\n",
    "print(company.upper())"
   ]
  },
  {
   "cell_type": "code",
   "execution_count": 10,
   "metadata": {},
   "outputs": [
    {
     "name": "stdout",
     "output_type": "stream",
     "text": [
      "coding for all\n"
     ]
    }
   ],
   "source": [
    "# Change all the characters to lowercase letters using lower() method.\n",
    "\n",
    "print(company.lower())"
   ]
  },
  {
   "cell_type": "code",
   "execution_count": 11,
   "metadata": {},
   "outputs": [
    {
     "name": "stdout",
     "output_type": "stream",
     "text": [
      "Coding for all\n",
      "Coding For All\n",
      "cODING fOR aLL\n"
     ]
    }
   ],
   "source": [
    "# Use capitalize(), title(), swapcase() methods to format the value of the string Coding For All.\n",
    "\n",
    "print(company.capitalize())\n",
    "print(company.title())\n",
    "print(company.swapcase())"
   ]
  },
  {
   "cell_type": "code",
   "execution_count": 13,
   "metadata": {},
   "outputs": [
    {
     "name": "stdout",
     "output_type": "stream",
     "text": [
      "C\n",
      "l\n",
      "i\n",
      " All\n"
     ]
    }
   ],
   "source": [
    "# Cut(slice) out the first word of Coding For All string.\n",
    "\n",
    "print(company[0])\n",
    "print(company[-1])\n",
    "print(company[3])\n",
    "print(company[10:])"
   ]
  },
  {
   "cell_type": "code",
   "execution_count": 17,
   "metadata": {},
   "outputs": [
    {
     "name": "stdout",
     "output_type": "stream",
     "text": [
      "0\n",
      "-1\n",
      "0\n",
      "True\n",
      "True\n"
     ]
    }
   ],
   "source": [
    "#Check if Coding For All string contains a word Coding using the method index, find or other methods.\n",
    "\n",
    "print(company.index(\"Coding\"))\n",
    "print(company.find(\"Coding for All\"))\n",
    "print(company.count(\"Coding for All\"))\n",
    "print(company.startswith(\"Coding\"))\n",
    "print(company.endswith(\"All\"))\n",
    "\n"
   ]
  },
  {
   "cell_type": "code",
   "execution_count": 9,
   "metadata": {},
   "outputs": [
    {
     "name": "stdout",
     "output_type": "stream",
     "text": [
      "Python For everyone\n"
     ]
    }
   ],
   "source": [
    "#Replace the word coding in the string 'Coding For All' to Python.\n",
    "company = \"Coding For everyone\"\n",
    "company = company.replace(\"Coding\", \"Python\")\n",
    "print(company)"
   ]
  },
  {
   "cell_type": "code",
   "execution_count": 7,
   "metadata": {},
   "outputs": [
    {
     "name": "stdout",
     "output_type": "stream",
     "text": [
      "Python for All\n"
     ]
    }
   ],
   "source": [
    "#Change Python for Everyone to Python for All using the replace method or other methods.\n",
    "\n",
    "company =\"Python for everyone\"\n",
    "company= company.replace( \"everyone\", \"All\" )\n",
    "print(company)"
   ]
  },
  {
   "cell_type": "code",
   "execution_count": 8,
   "metadata": {},
   "outputs": [
    {
     "name": "stdout",
     "output_type": "stream",
     "text": [
      "['Python', 'for', 'All']\n"
     ]
    }
   ],
   "source": [
    "#Split the string 'Coding For All' using space as the separator (split()) .\n",
    "\n",
    "company = company.split(\" \")\n",
    "print(company)"
   ]
  },
  {
   "cell_type": "code",
   "execution_count": 5,
   "metadata": {},
   "outputs": [
    {
     "name": "stdout",
     "output_type": "stream",
     "text": [
      "['Facebook', ' Google', ' Microsoft', ' Apple', ' IBM', ' Oracle', ' Amazon']\n"
     ]
    }
   ],
   "source": [
    "#\"Facebook, Google, Microsoft, Apple, IBM, Oracle, Amazon\" split the string at the comma.\n",
    "tech_company = \"Facebook, Google, Microsoft, Apple, IBM, Oracle, Amazon\"\n",
    "print(tech_company.split(\",\"))\n"
   ]
  },
  {
   "cell_type": "code",
   "execution_count": 11,
   "metadata": {},
   "outputs": [
    {
     "name": "stdout",
     "output_type": "stream",
     "text": [
      "C\n"
     ]
    }
   ],
   "source": [
    "#What is the character at index 0 in the string Coding For All.\n",
    "company_1 = \"Coding for All\"\n",
    "\n",
    "print(company_1[0])"
   ]
  },
  {
   "cell_type": "code",
   "execution_count": 12,
   "metadata": {},
   "outputs": [
    {
     "name": "stdout",
     "output_type": "stream",
     "text": [
      "l\n"
     ]
    }
   ],
   "source": [
    "#What is the last index of the string Coding For All.\n",
    "print(company_1[-1])"
   ]
  },
  {
   "cell_type": "code",
   "execution_count": 14,
   "metadata": {},
   "outputs": [
    {
     "name": "stdout",
     "output_type": "stream",
     "text": [
      "r\n"
     ]
    }
   ],
   "source": [
    "#What character is at index 10 in \"Coding For All\" string.\n",
    "\n",
    "print(company_1[9])"
   ]
  },
  {
   "cell_type": "code",
   "execution_count": 19,
   "metadata": {},
   "outputs": [
    {
     "name": "stdout",
     "output_type": "stream",
     "text": [
      "PY4E: Python For Everybody\n"
     ]
    }
   ],
   "source": [
    "#Create an acronym or an abbreviation for the name 'Python For Everyone'.\n",
    "text = \"Python For Everybody\"\n",
    "\n",
    "acronym = \"py4e\"\n",
    "Abbreviation = f'{acronym.upper()}: {text}'\n",
    "print(Abbreviation)\n"
   ]
  },
  {
   "cell_type": "code",
   "execution_count": 20,
   "metadata": {},
   "outputs": [
    {
     "name": "stdout",
     "output_type": "stream",
     "text": [
      "CFALL: Coding For All\n"
     ]
    }
   ],
   "source": [
    "#Create an acronym or an abbreviation for the name 'Coding For All'.\n",
    "\n",
    "Message = \"Coding For All\"\n",
    "\n",
    "acronym = \"cfall\"\n",
    "Abbreviation = f'{acronym.upper()}: {Message}'\n",
    "print(Abbreviation)"
   ]
  },
  {
   "cell_type": "code",
   "execution_count": 21,
   "metadata": {},
   "outputs": [
    {
     "name": "stdout",
     "output_type": "stream",
     "text": [
      "0\n"
     ]
    }
   ],
   "source": [
    "#Use index to determine the position of the first occurrence of C in Coding For All.\n",
    "\n",
    "print(company_1.index(\"C\"))"
   ]
  },
  {
   "cell_type": "code",
   "execution_count": 23,
   "metadata": {},
   "outputs": [
    {
     "name": "stdout",
     "output_type": "stream",
     "text": [
      "7\n"
     ]
    }
   ],
   "source": [
    "#Use index to determine the position of the first occurrence of F in Coding For All.\n",
    "\n",
    "print(company_1.index(\"f\"))\n"
   ]
  },
  {
   "cell_type": "code",
   "execution_count": 24,
   "metadata": {},
   "outputs": [
    {
     "name": "stdout",
     "output_type": "stream",
     "text": [
      "13\n"
     ]
    }
   ],
   "source": [
    "#Use rfind to determine the position of the last occurrence of l in Coding For All People.\n",
    "\n",
    "print(company_1.rfind(\"l\"))"
   ]
  },
  {
   "cell_type": "code",
   "execution_count": 27,
   "metadata": {},
   "outputs": [
    {
     "name": "stdout",
     "output_type": "stream",
     "text": [
      "31\n",
      "31\n"
     ]
    }
   ],
   "source": [
    "#Use index or find to find the position of the first occurrence of the word 'because' in the following sentence: 'You cannot end a sentence with because because because is a conjunction'\n",
    "sentence = \"You cannot end a sentence with because because because is a conjunction\"\n",
    "\n",
    "print(sentence.index(\"because\"))\n",
    "print(sentence.find(\"because\"))"
   ]
  },
  {
   "cell_type": "code",
   "execution_count": 30,
   "metadata": {},
   "outputs": [
    {
     "name": "stdout",
     "output_type": "stream",
     "text": [
      "47\n",
      "47\n"
     ]
    }
   ],
   "source": [
    "#Use rindex to find the position of the last occurrence of the word because in the following sentence: 'You cannot end a sentence with because because because is a conjunction'\n",
    "sentence_line = \"You cannot end a sentence with because because because is a conjunction\"\n",
    "print(sentence_line.rindex(\"because\"))\n",
    "print(sentence_line.rfind(\"because\"))"
   ]
  },
  {
   "cell_type": "code",
   "execution_count": 31,
   "metadata": {},
   "outputs": [
    {
     "name": "stdout",
     "output_type": "stream",
     "text": [
      "You cannot end a sentence with because because because is a conjunction\n",
      "['You cannot end a sentence with ', ' is a conjunction']\n"
     ]
    }
   ],
   "source": [
    "#Slice out the phrase 'because because because' in the following sentence: 'You cannot end a sentence with because because because is a conjunction'\n",
    "phrase_slice = \"You cannot end a sentence with because because because is a conjunction\"\n",
    "print(phrase_slice.strip(\"because because because\"))\n",
    "print(phrase_slice.split(\"because because because\"))"
   ]
  },
  {
   "cell_type": "code",
   "execution_count": 32,
   "metadata": {},
   "outputs": [
    {
     "name": "stdout",
     "output_type": "stream",
     "text": [
      "31\n",
      "31\n",
      "47\n",
      "47\n"
     ]
    }
   ],
   "source": [
    "#Find the position of the first occurrence of the word 'because' in the following sentence: 'You cannot end a sentence with because because because is a conjunction'\n",
    "message = \"You cannot end a sentence with because because because is a conjunction\"\n",
    "print(message.find(\"because\"))\n",
    "print(message.index(\"because\"))\n",
    "print(message.rfind(\"because\"))\n",
    "print(message.rindex('because'))"
   ]
  },
  {
   "cell_type": "code",
   "execution_count": 33,
   "metadata": {},
   "outputs": [
    {
     "name": "stdout",
     "output_type": "stream",
     "text": [
      "True\n"
     ]
    }
   ],
   "source": [
    "# Does ''Coding For All' start with a substring Coding?\n",
    "\n",
    "print(company_1.startswith(\"Coding\"))"
   ]
  },
  {
   "cell_type": "code",
   "execution_count": 34,
   "metadata": {},
   "outputs": [
    {
     "name": "stdout",
     "output_type": "stream",
     "text": [
      "False\n"
     ]
    }
   ],
   "source": [
    "# Does 'Coding For All' end with a substring coding?\n",
    "\n",
    "print(company_1.endswith(\"coding\"))"
   ]
  },
  {
   "cell_type": "code",
   "execution_count": 35,
   "metadata": {},
   "outputs": [
    {
     "name": "stdout",
     "output_type": "stream",
     "text": [
      "Coding For All\n"
     ]
    }
   ],
   "source": [
    "# '   Coding For All      '  , remove the left and right trailing spaces in the given string.\n",
    "text = '   Coding For All      '\n",
    "trimmed_text = text.strip()\n",
    "print(trimmed_text)\n",
    "\n"
   ]
  },
  {
   "cell_type": "code",
   "execution_count": 37,
   "metadata": {},
   "outputs": [
    {
     "name": "stdout",
     "output_type": "stream",
     "text": [
      "False\n",
      "True\n"
     ]
    }
   ],
   "source": [
    "# Which one of the following variables return True when we use the method isidentifier():\n",
    "# 30DaysOfPython\n",
    "# thirty_days_of_python\n",
    "var_one = \"30_days_of_python\"\n",
    "var_on = \"Thirty_days_of_python\"\n",
    "print(var_one.isidentifier())\n",
    "print(var_on.isidentifier())"
   ]
  },
  {
   "cell_type": "code",
   "execution_count": 39,
   "metadata": {},
   "outputs": [
    {
     "name": "stdout",
     "output_type": "stream",
     "text": [
      "Django# Flask# Bottle# Pyramid# Falcon\n",
      "# Django\n",
      "# Flask\n",
      "# Bottle\n",
      "# Pyramid\n",
      "# Falcon\n"
     ]
    }
   ],
   "source": [
    "#The following list contains the names of some of python libraries: ['Django', 'Flask', 'Bottle', 'Pyramid', 'Falcon']. Join the list with a hash with space string.\n",
    "packages = ['Django', 'Flask', 'Bottle', 'Pyramid', 'Falcon']\n",
    "result = '# '.join(packages)\n",
    "print(result)\n",
    "#OR\n",
    "print(f'# {packages[0]}')\n",
    "print(f'# {packages[1]}')\n",
    "print(f'# {packages[2]}')\n",
    "print(f'# {packages[3]}')\n",
    "print(f'# {packages[4]}')"
   ]
  },
  {
   "cell_type": "code",
   "execution_count": 40,
   "metadata": {},
   "outputs": [
    {
     "name": "stdout",
     "output_type": "stream",
     "text": [
      "I am enjoying this challenge.\n",
      "I just wonder what is next.\n"
     ]
    }
   ],
   "source": [
    "#Use the new line escape sequence to separate the following sentences.\n",
    "# I am enjoying this challenge.\n",
    "# I just wonder what is next.\n",
    "\n",
    "print(\"I am enjoying this challenge.\\nI just wonder what is next.\")\n"
   ]
  },
  {
   "cell_type": "code",
   "execution_count": 42,
   "metadata": {},
   "outputs": [
    {
     "name": "stdout",
     "output_type": "stream",
     "text": [
      "Name     \tAge   \tCountry   \tCity\n",
      "Asabeneh  \t250   \tFinland   \tHelsinki\n"
     ]
    }
   ],
   "source": [
    "#Use a tab escape sequence to write the following lines.\n",
    "# Name      Age     Country   City\n",
    "# Asabeneh  250     Finland   Helsinki\n",
    "\n",
    "print(\"Name     \\tAge   \\tCountry   \\tCity\")\n",
    "print(\"Asabeneh  \\t250   \\tFinland   \\tHelsinki\")\n"
   ]
  },
  {
   "cell_type": "code",
   "execution_count": 43,
   "metadata": {},
   "outputs": [
    {
     "name": "stdout",
     "output_type": "stream",
     "text": [
      "The Area of a Circle is 314.0 meters\n"
     ]
    }
   ],
   "source": [
    "#Use the string formatting method to display the following:\n",
    "# The area of a circle with radius 10 is 314 meters square.\n",
    "radius = 10\n",
    "area = 3.14 * radius ** 2\n",
    "print(f\"The Area of a Circle is {area} meters\")\n",
    "\n",
    "\n",
    "\n"
   ]
  },
  {
   "cell_type": "code",
   "execution_count": 44,
   "metadata": {},
   "outputs": [
    {
     "name": "stdout",
     "output_type": "stream",
     "text": [
      "8 + 6 = 14\n",
      "8 - 6 = 2\n",
      "8 * 6 = 48\n",
      "8 / 6 = 1.33\n",
      "8 % 6 = 2\n",
      "8 // 6 = 1\n",
      "8 ** 6 = 262144\n"
     ]
    }
   ],
   "source": [
    "# Make the following using string formatting methods:\n",
    "a = 8\n",
    "b = 6\n",
    "\n",
    "result = f\"8 + 6 = {a + b}\\n8 - 6 = {a - b}\\n8 * 6 = {a * b}\\n8 / 6 = {a / b:.2f}\\n8 % 6 = {a % b}\\n8 // 6 = {a // b}\\n8 ** 6 = {a ** b}\"\n",
    "print(result)\n",
    "\n"
   ]
  },
  {
   "cell_type": "markdown",
   "metadata": {},
   "source": [
    "#### CONGRATULATION ON FINISHING MODULE 4"
   ]
  }
 ],
 "metadata": {
  "kernelspec": {
   "display_name": "Python 3",
   "language": "python",
   "name": "python3"
  },
  "language_info": {
   "codemirror_mode": {
    "name": "ipython",
    "version": 3
   },
   "file_extension": ".py",
   "mimetype": "text/x-python",
   "name": "python",
   "nbconvert_exporter": "python",
   "pygments_lexer": "ipython3",
   "version": "3.13.0"
  }
 },
 "nbformat": 4,
 "nbformat_minor": 2
}
