{
 "cells": [
  {
   "cell_type": "markdown",
   "metadata": {},
   "source": [
    "## 💻 Exercises: Module 5\n",
    "\n",
    "#### Exercises: Level 1"
   ]
  },
  {
   "cell_type": "code",
   "execution_count": 25,
   "metadata": {},
   "outputs": [
    {
     "name": "stdout",
     "output_type": "stream",
     "text": [
      "[]\n"
     ]
    }
   ],
   "source": [
    "# Declare an empty list\n",
    "lst = [] # Empty list        \n",
    "print(lst) # Print the list"
   ]
  },
  {
   "cell_type": "code",
   "execution_count": 26,
   "metadata": {},
   "outputs": [
    {
     "name": "stdout",
     "output_type": "stream",
     "text": [
      "6\n"
     ]
    }
   ],
   "source": [
    "# Declare a list with more than 5 items\n",
    "colours = ['blue', 'green', 'yellow', 'white', 'black','orange'] # list of colour\n",
    "print(len(colours)) # Number of colours\n",
    "\n"
   ]
  },
  {
   "cell_type": "code",
   "execution_count": 27,
   "metadata": {},
   "outputs": [
    {
     "name": "stdout",
     "output_type": "stream",
     "text": [
      "blue\n",
      "orange\n"
     ]
    }
   ],
   "source": [
    "# Get the first item, the middle item and the last item of the list\n",
    "print(colours[0]) # First item\n",
    "print(colours[-1]) # Last item\n"
   ]
  },
  {
   "cell_type": "code",
   "execution_count": 28,
   "metadata": {},
   "outputs": [
    {
     "name": "stdout",
     "output_type": "stream",
     "text": [
      "['Nafisat', 25, 1.54, 'Single', 'BZ 99 Bungudu Road Kaduna Rigasa Duniya']\n"
     ]
    }
   ],
   "source": [
    "# Declare a list called mixed_data_types, put your(name, age, height, marital status, address)\n",
    "mix_data_types = ['Nafisat',25,1.54,'Single','BZ 99 Bungudu Road Kaduna Rigasa Duniya'] # mixed\n",
    "print(mix_data_types)"
   ]
  },
  {
   "cell_type": "code",
   "execution_count": 29,
   "metadata": {},
   "outputs": [
    {
     "name": "stdout",
     "output_type": "stream",
     "text": [
      "['Facebook', 'Google', 'Microsoft', 'Apple', 'IBM', 'Oracle', 'Amazon']\n",
      "7\n",
      "Facebook\n",
      "Apple\n",
      "Amazon\n"
     ]
    }
   ],
   "source": [
    "# Declare a list variable named it_companies and assign initial values Facebook, Google, Microsoft, Apple, IBM, Oracle and Amazon.\n",
    "companies = ['Facebook', 'Google', 'Microsoft','Apple','IBM','Oracle','Amazon']\n",
    "print(companies) # Initial values for each company in the list\n",
    "print(len(companies)) # Number of it_companies in it_companies\n",
    "print(companies[0]) # First item in the list\n",
    "print(companies[3])  # Second item in the list\n",
    "print(companies[-1]) # Last item in the list\n"
   ]
  },
  {
   "cell_type": "code",
   "execution_count": 38,
   "metadata": {},
   "outputs": [
    {
     "name": "stdout",
     "output_type": "stream",
     "text": [
      "['Facebook', 'Nokia', 'Microsoft', 'IT company', 'Apple', 'Nokia', 'Oracle', 'IT Company']\n"
     ]
    }
   ],
   "source": [
    "# Print the list after modifying one of the companies\n",
    "companies [-3] = 'Nokia'   # First item in the list        \n",
    "print(companies) # First item in the list \n"
   ]
  },
  {
   "cell_type": "code",
   "execution_count": 39,
   "metadata": {},
   "outputs": [
    {
     "name": "stdout",
     "output_type": "stream",
     "text": [
      "['Facebook', 'Nokia', 'Microsoft', 'IT company', 'Apple', 'Nokia', 'Oracle', 'IT Company']\n"
     ]
    }
   ],
   "source": [
    "# Insert an IT company in the middle of the companies list\n",
    "# Add an IT company to it_companies\n",
    "companies[-1] = \"IT Company\" # First item in the list\n",
    "print(companies)\n",
    "\n"
   ]
  },
  {
   "cell_type": "code",
   "execution_count": 41,
   "metadata": {},
   "outputs": [
    {
     "name": "stdout",
     "output_type": "stream",
     "text": [
      "APPLE\n"
     ]
    }
   ],
   "source": [
    "# Change one of the it_companies names to uppercase (IBM excluded!)\n",
    "print(companies[4].upper()) # Fourth item in the list    "
   ]
  },
  {
   "cell_type": "code",
   "execution_count": 48,
   "metadata": {},
   "outputs": [
    {
     "name": "stdout",
     "output_type": "stream",
     "text": [
      "Facebook # Google # Microsoft # Apple # IBM # Oracle # Amazon\n"
     ]
    }
   ],
   "source": [
    "# Join the it_companies with a string '#;  ''\n",
    "companies= ['Facebook', 'Google', 'Microsoft', 'Apple', 'IBM', 'Oracle', 'Amazon']\n",
    "results = \" # \" .join(companies)\n",
    "print(results)\n"
   ]
  },
  {
   "cell_type": "code",
   "execution_count": 50,
   "metadata": {},
   "outputs": [
    {
     "name": "stdout",
     "output_type": "stream",
     "text": [
      "True\n",
      "False\n"
     ]
    }
   ],
   "source": [
    "# Check if a certain company exists in the it_companies list.\n",
    "print('Google' in companies) # Check if Google exists in the list\n",
    "print('oracle' in companies) # Check if Oracle exists"
   ]
  },
  {
   "cell_type": "code",
   "execution_count": 51,
   "metadata": {},
   "outputs": [
    {
     "name": "stdout",
     "output_type": "stream",
     "text": [
      "['Amazon', 'Apple', 'Facebook', 'Google', 'IBM', 'Microsoft', 'Oracle']\n"
     ]
    }
   ],
   "source": [
    "# Sort the list using sort() method\n",
    "\n",
    "companies.sort() # Sort the list using sort()\n",
    "print(companies) # Print the list"
   ]
  },
  {
   "cell_type": "code",
   "execution_count": null,
   "metadata": {},
   "outputs": [
    {
     "name": "stdout",
     "output_type": "stream",
     "text": [
      "['Oracle', 'Microsoft', 'IBM', 'Google', 'Facebook', 'Apple', 'Amazon']\n"
     ]
    }
   ],
   "source": [
    "# Reverse the list in descending order using reverse() method\n",
    "companies.sort(reverse=True)  # Sort in descending order\n",
    "print(companies)# Reverse the list in descending\n"
   ]
  },
  {
   "cell_type": "code",
   "execution_count": 54,
   "metadata": {},
   "outputs": [
    {
     "name": "stdout",
     "output_type": "stream",
     "text": [
      "['Oracle', 'Microsoft', 'IBM']\n"
     ]
    }
   ],
   "source": [
    "# Slice out the first 3 companies from the list\n",
    "\n",
    "print(companies[:3]) # Slice out the first 3 companies from the list"
   ]
  },
  {
   "cell_type": "code",
   "execution_count": 56,
   "metadata": {},
   "outputs": [
    {
     "name": "stdout",
     "output_type": "stream",
     "text": [
      "['Facebook', 'Apple', 'Amazon']\n"
     ]
    }
   ],
   "source": [
    "# Slice out the last 3 companies from the list\n",
    "\n",
    "print(companies[-3:]) # Slice out the last 3 companies from the list\n"
   ]
  },
  {
   "cell_type": "code",
   "execution_count": 57,
   "metadata": {},
   "outputs": [
    {
     "name": "stdout",
     "output_type": "stream",
     "text": [
      "['IBM', 'Google']\n"
     ]
    }
   ],
   "source": [
    "# Slice out the middle IT company or companies from the list\n",
    "\n",
    "print(companies[2:-3]) # Slice out the middle IT company or companies from the list"
   ]
  },
  {
   "cell_type": "code",
   "execution_count": null,
   "metadata": {},
   "outputs": [
    {
     "name": "stdout",
     "output_type": "stream",
     "text": [
      "IT Company\n"
     ]
    }
   ],
   "source": [
    "# Remove the first IT company from the list\n",
    "companies = ['Facebook', 'Google', 'Microsoft','IT Company', 'Apple', 'IBM', 'Oracle', 'Amazon', 'IT Company', 'LogicTech'] # Remove the first IT company from the\n",
    "print(companies[8])"
   ]
  },
  {
   "cell_type": "code",
   "execution_count": 71,
   "metadata": {},
   "outputs": [
    {
     "name": "stdout",
     "output_type": "stream",
     "text": [
      "['Facebook', 'Google', 'IBM', 'Oracle', 'Amazon', 'IT Company', 'LogicTech']\n"
     ]
    }
   ],
   "source": [
    "#Remove the middle IT company or companies from the list\n",
    "\n",
    "companies = ['Facebook', 'Google', 'Microsoft','IT Company', 'Apple', 'IBM', 'Oracle', 'Amazon', 'IT Company', 'LogicTech'] # Remove the middle IT company or companies from the\n",
    "del companies[2:5] # Remove the middle IT company or companies from the list\n",
    "print(companies)\n",
    "\n",
    "# Remove the last IT company from the list"
   ]
  },
  {
   "cell_type": "code",
   "execution_count": 72,
   "metadata": {},
   "outputs": [
    {
     "name": "stdout",
     "output_type": "stream",
     "text": [
      "['Facebook', 'Google', 'Microsoft', 'IT Company', 'Apple', 'IBM', 'Oracle', 'Amazon', 'LogicTech']\n"
     ]
    }
   ],
   "source": [
    "# Remove the last IT company from the list\n",
    "\n",
    "companies = ['Facebook', 'Google', 'Microsoft','IT Company', 'Apple', 'IBM', 'Oracle', 'Amazon', 'IT Company', 'LogicTech'] # Remove the last IT company from the\n",
    "del companies[-2] # Remove the last IT company from the list\n",
    "print(companies)\n",
    "\n",
    "# Remove all IT companies from the list\n",
    "\n"
   ]
  },
  {
   "cell_type": "code",
   "execution_count": 73,
   "metadata": {},
   "outputs": [
    {
     "name": "stdout",
     "output_type": "stream",
     "text": [
      "['Facebook', 'Google', 'Microsoft', 'Apple', 'IBM', 'Oracle', 'Amazon', 'LogicTech']\n"
     ]
    }
   ],
   "source": [
    "# Remove all IT companies from the list\n",
    "\n",
    "companies = ['Facebook', 'Google', 'Microsoft','IT Company', 'Apple', 'IBM', 'Oracle', 'Amazon', 'IT Company', 'LogicTech'] # Remove all IT companies from the\n",
    "companies = [company for company in companies if company!= 'IT Company'] # Remove all IT companies from the list\n",
    "print(companies)"
   ]
  },
  {
   "cell_type": "code",
   "execution_count": 74,
   "metadata": {},
   "outputs": [
    {
     "name": "stdout",
     "output_type": "stream",
     "text": [
      "None\n"
     ]
    }
   ],
   "source": [
    "# Destroy the IT companies list\n",
    "\n",
    "companies = None # Destroy the IT companies list\n",
    "print(companies) # Check if the list is destroyed"
   ]
  },
  {
   "cell_type": "code",
   "execution_count": 75,
   "metadata": {},
   "outputs": [
    {
     "name": "stdout",
     "output_type": "stream",
     "text": [
      "['HTML', 'CSS', 'JS', 'React', 'Redux', 'Node', 'Express', 'MongoDB']\n"
     ]
    }
   ],
   "source": [
    "# Join the following lists:\n",
    "# front_end = ['HTML', 'CSS', 'JS', 'React', 'Redux']\n",
    "# back_end = ['Node','Express', 'MongoDB']\n",
    "\n",
    "front_end = ['HTML', 'CSS', 'JS', 'React', 'Redux'] # Front-end technologies\n",
    "back_end = ['Node','Express', 'MongoDB'] # Back-end technologies\n",
    "\n",
    "combined_list = front_end + back_end # Combine the lists\n",
    "print(combined_list) # Print the combined list"
   ]
  },
  {
   "cell_type": "code",
   "execution_count": 76,
   "metadata": {},
   "outputs": [
    {
     "name": "stdout",
     "output_type": "stream",
     "text": [
      "['HTML', 'CSS', 'JS', 'React', 'Python', 'Redux', 'SQL', 'Node', 'Express', 'MongoDB']\n"
     ]
    }
   ],
   "source": [
    "# After joining the lists in question 26. Copy the joined list and assign it to a variable full_stack, then insert Python and SQL after Redux.\n",
    "\n",
    "full_stack = combined_list # Copy the joined list to full_stack\n",
    "full_stack.insert(4, 'Python') # Insert Python after Redux\n",
    "full_stack.insert(6, 'SQL') # Insert SQL after Python\n",
    "print(full_stack) # Print the updated full_stack list\n",
    "# Sort the full_stack list in descending order."
   ]
  },
  {
   "cell_type": "markdown",
   "metadata": {},
   "source": [
    "## EXERCISE : LEVEL 2"
   ]
  },
  {
   "cell_type": "code",
   "execution_count": null,
   "metadata": {},
   "outputs": [
    {
     "name": "stdout",
     "output_type": "stream",
     "text": [
      "[16, 17, 18, 19, 20, 21, 22, 23, 24, 25]\n"
     ]
    }
   ],
   "source": [
    "# The following is a list of 10 students ages:\n",
    "\n",
    "ages = [16, 17, 18, 19, 20, 21, 22, 23, 24, 25] # 10 students\n",
    "\n",
    "# Sort this list in ascending order using the bubble sort algorithm.\n",
    "ages.sort\n",
    "print(ages) # Print the sorted list\n",
    "\n",
    "\n"
   ]
  },
  {
   "cell_type": "code",
   "execution_count": 94,
   "metadata": {},
   "outputs": [
    {
     "name": "stdout",
     "output_type": "stream",
     "text": [
      "16\n",
      "25\n"
     ]
    }
   ],
   "source": [
    "# Add the min age \n",
    "ages_min = min(ages) # Add the min age\n",
    "print(ages_min) # Print the sorted list again\n",
    "\n",
    "# Add the max age\n",
    "ages_max = max(ages) # Add the max age\n",
    "print(ages_max) # Print the sorted list again\n",
    "\n"
   ]
  },
  {
   "cell_type": "code",
   "execution_count": 96,
   "metadata": {},
   "outputs": [
    {
     "name": "stdout",
     "output_type": "stream",
     "text": [
      "The Median is: 25.5\n",
      "\n"
     ]
    }
   ],
   "source": [
    "# Find the median age (one middle item or two middle items divided by two)\n",
    "middle_1 = 25\n",
    "middle_2 = 26\n",
    "results = middle_2 + middle_1\n",
    "print(f'The Median is: {results / 2}\\n')"
   ]
  },
  {
   "cell_type": "code",
   "execution_count": 105,
   "metadata": {},
   "outputs": [
    {
     "name": "stdout",
     "output_type": "stream",
     "text": [
      "The Average of Age is: 20.5\n"
     ]
    }
   ],
   "source": [
    "# Find the average age (sum of all items divided by their number )\n",
    "ages_sum = sum(ages)\n",
    "length = len(ages)\n",
    "average_age = ages_sum / length\n",
    "print(f\"The Average of Age is: {ages_sum / length}\")"
   ]
  },
  {
   "cell_type": "code",
   "execution_count": 107,
   "metadata": {},
   "outputs": [
    {
     "name": "stdout",
     "output_type": "stream",
     "text": [
      "The Range of Age is: 9\n"
     ]
    }
   ],
   "source": [
    "# Find the range of the ages (max minus min)\n",
    "age_range = ages_max - ages_min \n",
    "print(f\"The Range of Age is: {age_range}\")"
   ]
  },
  {
   "cell_type": "code",
   "execution_count": 111,
   "metadata": {},
   "outputs": [
    {
     "name": "stdout",
     "output_type": "stream",
     "text": [
      "(min - Average) is: 4.5\n",
      "(Max - Average) is: 4.5\n",
      "The (min - Average) and (Max - Average) are the same\n"
     ]
    }
   ],
   "source": [
    "# Compare the value of (min - average) and (max - average), use abs() method\n",
    "value_1 = abs(min(ages) - average_age)\n",
    "print(f\"(min - Average) is: {value_1}\")\n",
    "value_2 = abs(max(ages) - average_age)\n",
    "print(f\"(Max - Average) is: {value_2}\")\n",
    "\n",
    "if value_2 == value_1:\n",
    "    print(\"The (min - Average) and (Max - Average) are the same\")\n",
    "else:\n",
    "    print(\"The (min - Average) and (Max - Average) are different\")\n",
    "\n"
   ]
  },
  {
   "cell_type": "code",
   "execution_count": 114,
   "metadata": {},
   "outputs": [
    {
     "name": "stdout",
     "output_type": "stream",
     "text": [
      "The middle is: Lesotho\n"
     ]
    }
   ],
   "source": [
    "# Find the middle country(ies) in the countries list.\n",
    "countries_list = [\n",
    "  'Afghanistan',\n",
    "  'Albania',\n",
    "  'Algeria',\n",
    "  'Andorra',\n",
    "  'Angola',\n",
    "  'Antigua and Barbuda',\n",
    "  'Argentina',\n",
    "  'Armenia',\n",
    "  'Australia',\n",
    "  'Austria',\n",
    "  'Azerbaijan',\n",
    "  'Bahamas',\n",
    "  'Bahrain',\n",
    "  'Bangladesh',\n",
    "  'Barbados',\n",
    "  'Belarus',\n",
    "  'Belgium',\n",
    "  'Belize',\n",
    "  'Benin',\n",
    "  'Bhutan',\n",
    "  'Bolivia',\n",
    "  'Bosnia and Herzegovina',\n",
    "  'Botswana',\n",
    "  'Brazil',\n",
    "  'Brunei',\n",
    "  'Bulgaria',\n",
    "  'Burkina Faso',\n",
    "  'Burundi',\n",
    "  'Cambodia',\n",
    "  'Cameroon',\n",
    "  'Canada',\n",
    "  'Cape Verde',\n",
    "  'Central African Republic',\n",
    "  'Chad',\n",
    "  'Chile',\n",
    "  'China',\n",
    "  'Colombi',\n",
    "  'Comoros',\n",
    "  'Congo (Brazzaville)',\n",
    "  'Congo',\n",
    "  'Costa Rica',\n",
    "  \"Cote d'Ivoire\",\n",
    "  'Croatia',\n",
    "  'Cuba',\n",
    "  'Cyprus',\n",
    "  'Czech Republic',\n",
    "  'Denmark',\n",
    "  'Djibouti',\n",
    "  'Dominica',\n",
    "  'Dominican Republic',\n",
    "  'East Timor (Timor Timur)',\n",
    "  'Ecuador',\n",
    "  'Egypt',\n",
    "  'El Salvador',\n",
    "  'Equatorial Guinea',\n",
    "  'Eritrea',\n",
    "  'Estonia',\n",
    "  'Ethiopia',\n",
    "  'Fiji',\n",
    "  'Finland',\n",
    "  'France',\n",
    "  'Gabon',\n",
    "  'Gambia, The',\n",
    "  'Georgia',\n",
    "  'Germany',\n",
    "  'Ghana',\n",
    "  'Greece',\n",
    "  'Grenada',\n",
    "  'Guatemala',\n",
    "  'Guinea',\n",
    "  'Guinea-Bissau',\n",
    "  'Guyana',\n",
    "  'Haiti',\n",
    "  'Honduras',\n",
    "  'Hungary',\n",
    "  'Iceland',\n",
    "  'India',\n",
    "  'Indonesia',\n",
    "  'Iran',\n",
    "  'Iraq',\n",
    "  'Ireland',\n",
    "  'Israel',\n",
    "  'Italy',\n",
    "  'Jamaica',\n",
    "  'Japan',\n",
    "  'Jordan',\n",
    "  'Kazakhstan',\n",
    "  'Kenya',\n",
    "  'Kiribati',\n",
    "  'Korea, North',\n",
    "  'Korea, South',\n",
    "  'Kuwait',\n",
    "  'Kyrgyzstan',\n",
    "  'Laos',\n",
    "  'Latvia',\n",
    "  'Lebanon',\n",
    "  'Lesotho',\n",
    "  'Liberia',\n",
    "  'Libya',\n",
    "  'Liechtenstein',\n",
    "  'Lithuania',\n",
    "  'Luxembourg',\n",
    "  'Macedonia',\n",
    "  'Madagascar',\n",
    "  'Malawi',\n",
    "  'Malaysia',\n",
    "  'Maldives',\n",
    "  'Mali',\n",
    "  'Malta',\n",
    "  'Marshall Islands',\n",
    "  'Mauritania',\n",
    "  'Mauritius',\n",
    "  'Mexico',\n",
    "  'Micronesia',\n",
    "  'Moldova',\n",
    "  'Monaco',\n",
    "  'Mongolia',\n",
    "  'Morocco',\n",
    "  'Mozambique',\n",
    "  'Myanmar',\n",
    "  'Namibia',\n",
    "  'Nauru',\n",
    "  'Nepal',\n",
    "  'Netherlands',\n",
    "  'New Zealand',\n",
    "  'Nicaragua',\n",
    "  'Niger',\n",
    "  'Nigeria',\n",
    "  'Norway',\n",
    "  'Oman',\n",
    "  'Pakistan',\n",
    "  'Palau',\n",
    "  'Panama',\n",
    "  'Papua New Guinea',\n",
    "  'Paraguay',\n",
    "  'Peru',\n",
    "  'Philippines',\n",
    "  'Poland',\n",
    "  'Portugal',\n",
    "  'Qatar',\n",
    "  'Romania',\n",
    "  'Russia',\n",
    "  'Rwanda',\n",
    "  'Saint Kitts and Nevis',\n",
    "  'Saint Lucia',\n",
    "  'Saint Vincent',\n",
    "  'Samoa',\n",
    "  'San Marino',\n",
    "  'Sao Tome and Principe',\n",
    "  'Saudi Arabia',\n",
    "  'Senegal',\n",
    "  'Serbia and Montenegro',\n",
    "  'Seychelles',\n",
    "  'Sierra Leone',\n",
    "  'Singapore',\n",
    "  'Slovakia',\n",
    "  'Slovenia',\n",
    "  'Solomon Islands',\n",
    "  'Somalia',\n",
    "  'South Africa',\n",
    "  'Spain',\n",
    "  'Sri Lanka',\n",
    "  'Sudan',\n",
    "  'Suriname',\n",
    "  'Swaziland',\n",
    "  'Sweden',\n",
    "  'Switzerland',\n",
    "  'Syria',\n",
    "  'Taiwan',\n",
    "  'Tajikistan',\n",
    "  'Tanzania',\n",
    "  'Thailand',\n",
    "  'Togo',\n",
    "  'Tonga',\n",
    "  'Trinidad and Tobago',\n",
    "  'Tunisia',\n",
    "  'Turkey',\n",
    "  'Turkmenistan',\n",
    "  'Tuvalu',\n",
    "  'Uganda',\n",
    "  'Ukraine',\n",
    "  'United Arab Emirates',\n",
    "  'United Kingdom',\n",
    "  'United States',\n",
    "  'Uruguay',\n",
    "  'Uzbekistan',\n",
    "  'Vanuatu',\n",
    "  'Vatican City',\n",
    "  'Venezuela',\n",
    "  'Vietnam',\n",
    "  'Yemen',\n",
    "  'Zambia',\n",
    "  'Zimbabwe',\n",
    "]\n",
    "lenght_countries = len(countries_list)\n",
    "median = countries_list[lenght_countries//2]\n",
    "print(f\"The middle is: {median}\")\n",
    "\n"
   ]
  },
  {
   "cell_type": "code",
   "execution_count": 117,
   "metadata": {},
   "outputs": [
    {
     "name": "stdout",
     "output_type": "stream",
     "text": [
      "The first part of the country are: ['Afghanistan', 'Albania', 'Algeria', 'Andorra', 'Angola', 'Antigua and Barbuda', 'Argentina', 'Armenia', 'Australia', 'Austria', 'Azerbaijan', 'Bahamas', 'Bahrain', 'Bangladesh', 'Barbados', 'Belarus', 'Belgium', 'Belize', 'Benin', 'Bhutan', 'Bolivia', 'Bosnia and Herzegovina', 'Botswana', 'Brazil', 'Brunei', 'Bulgaria', 'Burkina Faso', 'Burundi', 'Cambodia', 'Cameroon', 'Canada', 'Cape Verde', 'Central African Republic', 'Chad', 'Chile', 'China', 'Colombi', 'Comoros', 'Congo (Brazzaville)', 'Congo', 'Costa Rica', \"Cote d'Ivoire\", 'Croatia', 'Cuba', 'Cyprus', 'Czech Republic', 'Denmark', 'Djibouti', 'Dominica', 'Dominican Republic', 'East Timor (Timor Timur)', 'Ecuador', 'Egypt', 'El Salvador', 'Equatorial Guinea', 'Eritrea', 'Estonia', 'Ethiopia', 'Fiji', 'Finland', 'France', 'Gabon', 'Gambia, The', 'Georgia', 'Germany', 'Ghana', 'Greece', 'Grenada', 'Guatemala', 'Guinea', 'Guinea-Bissau', 'Guyana', 'Haiti', 'Honduras', 'Hungary', 'Iceland', 'India', 'Indonesia', 'Iran', 'Iraq', 'Ireland', 'Israel', 'Italy', 'Jamaica', 'Japan', 'Jordan', 'Kazakhstan', 'Kenya', 'Kiribati', 'Korea, North', 'Korea, South', 'Kuwait', 'Kyrgyzstan', 'Laos', 'Latvia', 'Lebanon', 'Lesotho']\n",
      "The second half of the country are: ['Liberia', 'Libya', 'Liechtenstein', 'Lithuania', 'Luxembourg', 'Macedonia', 'Madagascar', 'Malawi', 'Malaysia', 'Maldives', 'Mali', 'Malta', 'Marshall Islands', 'Mauritania', 'Mauritius', 'Mexico', 'Micronesia', 'Moldova', 'Monaco', 'Mongolia', 'Morocco', 'Mozambique', 'Myanmar', 'Namibia', 'Nauru', 'Nepal', 'Netherlands', 'New Zealand', 'Nicaragua', 'Niger', 'Nigeria', 'Norway', 'Oman', 'Pakistan', 'Palau', 'Panama', 'Papua New Guinea', 'Paraguay', 'Peru', 'Philippines', 'Poland', 'Portugal', 'Qatar', 'Romania', 'Russia', 'Rwanda', 'Saint Kitts and Nevis', 'Saint Lucia', 'Saint Vincent', 'Samoa', 'San Marino', 'Sao Tome and Principe', 'Saudi Arabia', 'Senegal', 'Serbia and Montenegro', 'Seychelles', 'Sierra Leone', 'Singapore', 'Slovakia', 'Slovenia', 'Solomon Islands', 'Somalia', 'South Africa', 'Spain', 'Sri Lanka', 'Sudan', 'Suriname', 'Swaziland', 'Sweden', 'Switzerland', 'Syria', 'Taiwan', 'Tajikistan', 'Tanzania', 'Thailand', 'Togo', 'Tonga', 'Trinidad and Tobago', 'Tunisia', 'Turkey', 'Turkmenistan', 'Tuvalu', 'Uganda', 'Ukraine', 'United Arab Emirates', 'United Kingdom', 'United States', 'Uruguay', 'Uzbekistan', 'Vanuatu', 'Vatican City', 'Venezuela', 'Vietnam', 'Yemen', 'Zambia', 'Zimbabwe']\n"
     ]
    }
   ],
   "source": [
    "# Divide the countries list into two equal lists if it is even if not one more country for the first half.\n",
    "lenght_countries = len(countries_list)\n",
    "mid_countries  = (lenght_countries + 1)// 2  ## Adding 1 to make two country equal\n",
    "#DIVIDE THE LIST INTO TWO HALF\n",
    "first_half = countries_list[:mid_countries]\n",
    "print(f\"The first part of the country are: {first_half}\")\n",
    "\n",
    "second_half = countries_list[mid_countries:]\n",
    "print(f\"The second half of the country are: {second_half}\")"
   ]
  },
  {
   "cell_type": "code",
   "execution_count": 118,
   "metadata": {},
   "outputs": [
    {
     "name": "stdout",
     "output_type": "stream",
     "text": [
      "The first country is: CHINA\n",
      "The second country is: RUSSIA\n",
      "The third country is: USA\n",
      "The scandic country are: ['Finland', 'Sweden', 'Norway', 'Denmark']\n"
     ]
    }
   ],
   "source": [
    "# 'China', 'Russia', 'USA', 'Finland', 'Sweden', 'Norway', 'Denmark']. Unpack the first three countries and the rest as scandic countries.\n",
    "unpack = ['China', 'Russia', 'USA', 'Finland', 'Sweden', 'Norway', 'Denmark']\n",
    "print(f\"The first country is: {unpack[0].upper()}\")\n",
    "print(f\"The second country is: {unpack[1].upper()}\")\n",
    "print(f\"The third country is: {unpack[2].upper()}\")\n",
    "print(f\"The scandic country are: {unpack[3:]}\")"
   ]
  },
  {
   "cell_type": "markdown",
   "metadata": {},
   "source": [
    "#### TUPLES\n",
    "## Tuple Exercises: Level 1"
   ]
  },
  {
   "cell_type": "code",
   "execution_count": null,
   "metadata": {},
   "outputs": [
    {
     "name": "stdout",
     "output_type": "stream",
     "text": [
      "()\n"
     ]
    }
   ],
   "source": [
    "# Create an empty tuple\n",
    "my_tuple =()\n",
    "print(my_tuple)\n"
   ]
  },
  {
   "cell_type": "code",
   "execution_count": 121,
   "metadata": {},
   "outputs": [
    {
     "name": "stdout",
     "output_type": "stream",
     "text": [
      "('ibrahim', 'musandra', 'Ahmad', 'Muhammad')\n",
      "('jamila', 'Hafsat', 'Fatima', 'Nafisah')\n"
     ]
    }
   ],
   "source": [
    "# Create a tuple containing names of your sisters and your brothers (imaginary siblings are fine)\n",
    "my_brothers = (\"ibrahim\", \"musandra\", \"Ahmad\",\"Muhammad\")\n",
    "my_sisters =   (\"jamila\",\"Hafsat\",\"Fatima\",\"Nafisah\")\n",
    "print(my_brothers)\n",
    "print(my_sisters)"
   ]
  },
  {
   "cell_type": "code",
   "execution_count": 122,
   "metadata": {},
   "outputs": [
    {
     "name": "stdout",
     "output_type": "stream",
     "text": [
      "('jamila', 'Hafsat', 'Fatima', 'Nafisah', 'ibrahim', 'musandra', 'Ahmad', 'Muhammad')\n"
     ]
    }
   ],
   "source": [
    "# Join brothers and sisters tuples and assign it to siblings\n",
    "my_siblings =my_sisters+my_brothers\n",
    "print(my_siblings)"
   ]
  },
  {
   "cell_type": "code",
   "execution_count": 125,
   "metadata": {},
   "outputs": [
    {
     "name": "stdout",
     "output_type": "stream",
     "text": [
      "I have 8 siblings\n"
     ]
    }
   ],
   "source": [
    "# How many siblings do you have?\n",
    "print(f'I have {len(my_siblings)} siblings')"
   ]
  },
  {
   "cell_type": "code",
   "execution_count": 147,
   "metadata": {},
   "outputs": [
    {
     "name": "stdout",
     "output_type": "stream",
     "text": [
      "['jamila', 'Hafsat', 'Fatima', 'Nafisah', 'ibrahim', 'musandra', 'Ahmad', 'Muhammad', 'Alhaji Muktar', 'Hajiya Maryam']\n"
     ]
    }
   ],
   "source": [
    "# Modify the siblings tuple \n",
    "# and add the name of your father and mother \n",
    "# and assign it to family_members\n",
    "\n",
    "parent = [\"Alhaji Muktar\",\"Hajiya Maryam\"]\n",
    "my_siblings = list(my_siblings)\n",
    "family_members = my_siblings+parent\n",
    "print(family_members)\n",
    "\n",
    "\n"
   ]
  },
  {
   "cell_type": "markdown",
   "metadata": {},
   "source": [
    "#### Tuple Exercises: Level 2"
   ]
  },
  {
   "cell_type": "code",
   "execution_count": 150,
   "metadata": {},
   "outputs": [
    {
     "name": "stdout",
     "output_type": "stream",
     "text": [
      "('jamila', 'Hafsat', 'Fatima', 'Nafisah') are my sisters \n",
      "\n",
      "('jamila', 'Hafsat', 'Fatima', 'Nafisah') are my sisters \n",
      "\n",
      "('jamila', 'Hafsat', 'Fatima', 'Nafisah') are my sisters \n",
      "\n",
      "('jamila', 'Hafsat', 'Fatima', 'Nafisah') are my sisters \n",
      "\n",
      "('ibrahim', 'musandra', 'Ahmad', 'Muhammad') are my brother \n",
      "\n",
      "('ibrahim', 'musandra', 'Ahmad', 'Muhammad') are my brother \n",
      "\n",
      "('ibrahim', 'musandra', 'Ahmad', 'Muhammad') are my brother \n",
      "\n",
      "('ibrahim', 'musandra', 'Ahmad', 'Muhammad') are my brother \n",
      "\n",
      "['Alhaji Muktar', 'Hajiya Maryam'] are my parent \n",
      "\n",
      "['Alhaji Muktar', 'Hajiya Maryam'] are my parent \n",
      "\n"
     ]
    }
   ],
   "source": [
    "# Unpack siblings and parents from family_members\n",
    "for sister in my_sisters:\n",
    "    print(my_sisters, \"are my sisters\",\"\\n\")\n",
    "\n",
    "for brother in my_brothers:\n",
    "    print(my_brothers, \"are my brother\",\"\\n\")\n",
    "\n",
    "for parents in parent:\n",
    "    print(parent, \"are my parent\", \"\\n\")"
   ]
  },
  {
   "cell_type": "code",
   "execution_count": 152,
   "metadata": {},
   "outputs": [
    {
     "name": "stdout",
     "output_type": "stream",
     "text": [
      "('mango', 'apple', 'kiwi', 'orange', 'watermelon', 'tomatoes', 'pumkin', 'lettuce', 'cabbage', 'carrot', 'eggs', 'milk', 'meat', 'chicken', 'butter')\n"
     ]
    }
   ],
   "source": [
    "# Create fruits, vegetables and animal products tuples. \n",
    "# Join the three tuples \n",
    "# and assign it to a variable called food_stuff_tp.\n",
    "fruits = ('mango','apple','kiwi','orange','watermelon')\n",
    "vegetables = ('tomatoes','pumkin','lettuce','cabbage','carrot')\n",
    "animal_products = ('eggs','milk','meat','chicken','butter')\n",
    "food_stuff_tp = fruits+vegetables+animal_products\n",
    "print(food_stuff_tp)"
   ]
  },
  {
   "cell_type": "code",
   "execution_count": 164,
   "metadata": {},
   "outputs": [
    {
     "name": "stdout",
     "output_type": "stream",
     "text": [
      "['mango', 'apple', 'kiwi', 'orange', 'watermelon', 'tomatoes', 'pumkin', 'lettuce', 'cabbage', 'carrot', 'eggs', 'milk', 'meat', 'chicken', 'butter']\n"
     ]
    }
   ],
   "source": [
    "# Change the about food_stuff_tp tuple to a food_stuff_lt list\n",
    "food_stuff_tp = list(food_stuff_lst)\n",
    "print(food_stuff_lst)\n"
   ]
  },
  {
   "cell_type": "code",
   "execution_count": null,
   "metadata": {},
   "outputs": [
    {
     "name": "stdout",
     "output_type": "stream",
     "text": [
      "['mango', 'apple', 'kiwi']\n",
      "['orange', 'watermelon', 'tomatoes']\n",
      "['meat', 'chicken']\n"
     ]
    }
   ],
   "source": [
    "# Slice out the middle item or items from the food_stuff_tp tuple or food_stuff_lt list.\n",
    "print(food_stuff_lst[0:3])\n",
    "print(food_stuff_lst[3:6])\n",
    "print(food_stuff_lst[-3:-1])\n"
   ]
  },
  {
   "cell_type": "code",
   "execution_count": 155,
   "metadata": {},
   "outputs": [
    {
     "name": "stdout",
     "output_type": "stream",
     "text": [
      "['mango', 'apple', 'kiwi', 'orange', 'watermelon', 'tomatoes', 'pumkin', 'lettuce', 'cabbage', 'carrot', 'eggs', 'milk', 'meat', 'chicken']\n"
     ]
    }
   ],
   "source": [
    "# Slice out the first three items and the last three items from food_staff_lt list\n",
    "print(food_stuff_lst[0:-1])"
   ]
  },
  {
   "cell_type": "code",
   "execution_count": null,
   "metadata": {},
   "outputs": [
    {
     "name": "stdout",
     "output_type": "stream",
     "text": [
      "('mango', 'apple', 'kiwi', 'orange', 'watermelon', 'tomatoes', 'pumkin', 'lettuce', 'cabbage', 'carrot', 'eggs', 'milk', 'meat', 'chicken', 'butter')\n"
     ]
    }
   ],
   "source": [
    "# Delete the food_staff_tp tuple completely\n",
    "fruits = ('mango','apple','kiwi','orange','watermelon')\n",
    "vegetables = ('tomatoes','pumkin','lettuce','cabbage','carrot')\n",
    "animal_products = ('eggs','milk','meat','chicken','butter')\n",
    "food_stuff_tp = fruits+vegetables+animal_products\n",
    "print(food_stuff_tp)\n",
    "# Check if an item exists in tuple:\n",
    "del food_stuff_tp\n"
   ]
  },
  {
   "cell_type": "code",
   "execution_count": 180,
   "metadata": {},
   "outputs": [
    {
     "name": "stdout",
     "output_type": "stream",
     "text": [
      "Estonia not present in nordic countries\n",
      "Iceland is present in Nordic countries\n"
     ]
    }
   ],
   "source": [
    "# Check if 'Estonia' is a nordic country\n",
    "# Check if 'Iceland' is a nordic country\n",
    "nordic_countries = ('Denmark', 'Finland','Iceland', 'Norway', 'Sweden')\n",
    "if 'Estonia' in nordic_countries:\n",
    "    print('Estonia is present in nordic countries')\n",
    "else:\n",
    "    print('Estonia not present in nordic countries')\n",
    "\n",
    "if 'Iceland' in nordic_countries:\n",
    "    print('Iceland is present in Nordic countries')\n",
    "else:\n",
    "    print('Iceland is not present in Nordic countries')\n",
    "\n",
    "\n"
   ]
  },
  {
   "cell_type": "markdown",
   "metadata": {},
   "source": [
    "## 💻 Sets Exercises\n",
    "#### SET EXERCISE 1"
   ]
  },
  {
   "cell_type": "code",
   "execution_count": 186,
   "metadata": {},
   "outputs": [
    {
     "name": "stdout",
     "output_type": "stream",
     "text": [
      "Length of it_companies is: 7\n"
     ]
    }
   ],
   "source": [
    "# Find the length of the set it_companies\n",
    "it_companies = {'Facebook', 'Google', 'Microsoft', 'Apple', 'IBM', 'Oracle', 'Amazon'}\n",
    "print(f'Length of it_companies is: {len(it_companies)}')"
   ]
  },
  {
   "cell_type": "code",
   "execution_count": 183,
   "metadata": {},
   "outputs": [
    {
     "name": "stdout",
     "output_type": "stream",
     "text": [
      "{'Google', 'Oracle', 'Microsoft', 'Twitter', 'Amazon', 'IBM', 'Facebook', 'Apple'}\n"
     ]
    }
   ],
   "source": [
    "# Add 'Twitter' to it_companies\n",
    "it_companies.add('Twitter')\n",
    "print(it_companies)"
   ]
  },
  {
   "cell_type": "code",
   "execution_count": 184,
   "metadata": {},
   "outputs": [
    {
     "name": "stdout",
     "output_type": "stream",
     "text": [
      "{'TikTok', 'Microsoft', 'Twitter', 'IBM', 'Facebook', 'Google', 'Snapchat', 'Instagram', 'Apple', 'Oracle', 'Amazon'}\n"
     ]
    }
   ],
   "source": [
    "# Insert multiple IT companies at once to the set it_companies\n",
    "\n",
    "it_companies.update(['Instagram', 'Snapchat', 'TikTok'])\n",
    "print(it_companies)"
   ]
  },
  {
   "cell_type": "code",
   "execution_count": 192,
   "metadata": {},
   "outputs": [
    {
     "name": "stdout",
     "output_type": "stream",
     "text": [
      "{'Google', 'Oracle', 'Amazon', 'IBM', 'Facebook', 'Apple'}\n"
     ]
    }
   ],
   "source": [
    "\n",
    "# Remove one of the companies from the set it_companies\n",
    "\n",
    "it_companies.remove('Microsoft')\n",
    "print(it_companies)\n",
    "\n",
    "\n"
   ]
  },
  {
   "cell_type": "code",
   "execution_count": null,
   "metadata": {},
   "outputs": [],
   "source": [
    "# What is the difference between remove and discard\n",
    "\n",
    "it_companies.remove('Twitter')  # Raises an error if the item does not exist\n",
    "print(it_companies)\n",
    "\n",
    "it_companies.discard('Twitter')  # Does not raise an error if the item does not exist\n",
    "print(it_companies)\n"
   ]
  },
  {
   "cell_type": "markdown",
   "metadata": {},
   "source": [
    "#### Sets Exercises: Level 2"
   ]
  },
  {
   "cell_type": "code",
   "execution_count": 194,
   "metadata": {},
   "outputs": [
    {
     "name": "stdout",
     "output_type": "stream",
     "text": [
      "{19, 20, 22, 24, 25, 26, 27, 28}\n"
     ]
    }
   ],
   "source": [
    "# Join A and B\n",
    "A = {19, 22, 24, 20, 25, 26}\n",
    "B = {19, 22, 20, 25, 26, 24, 28, 27}\n",
    "C = A.union(B)\n",
    "print(C)\n"
   ]
  },
  {
   "cell_type": "code",
   "execution_count": 195,
   "metadata": {},
   "outputs": [
    {
     "name": "stdout",
     "output_type": "stream",
     "text": [
      "{19, 20, 22, 24, 25, 26}\n"
     ]
    }
   ],
   "source": [
    "# Find A intersection B\n",
    "\n",
    "C = A.intersection(B)\n",
    "print(C)\n"
   ]
  },
  {
   "cell_type": "code",
   "execution_count": 196,
   "metadata": {},
   "outputs": [
    {
     "name": "stdout",
     "output_type": "stream",
     "text": [
      "True\n"
     ]
    }
   ],
   "source": [
    "# Is A subset of B\n",
    "\n",
    "C = A.issubset(B)\n",
    "print(C)"
   ]
  },
  {
   "cell_type": "code",
   "execution_count": 198,
   "metadata": {},
   "outputs": [
    {
     "name": "stdout",
     "output_type": "stream",
     "text": [
      "False\n"
     ]
    }
   ],
   "source": [
    "# Are A and B disjoint sets\n",
    "\n",
    "C = A.isdisjoint(B)\n",
    "print(C)\n"
   ]
  },
  {
   "cell_type": "code",
   "execution_count": 202,
   "metadata": {},
   "outputs": [
    {
     "name": "stdout",
     "output_type": "stream",
     "text": [
      "{19, 20, 22, 24, 25, 26, 27, 28}\n",
      "{19, 20, 22, 24, 25, 26, 27, 28}\n"
     ]
    }
   ],
   "source": [
    "# Join A with B and B with A\n",
    "join_A = A.union(B)\n",
    "join_B = B.union(A)\n",
    "print(join_A)\n",
    "print(join_B)\n"
   ]
  },
  {
   "cell_type": "code",
   "execution_count": 201,
   "metadata": {},
   "outputs": [
    {
     "name": "stdout",
     "output_type": "stream",
     "text": [
      "{27, 28}\n"
     ]
    }
   ],
   "source": [
    "# What is the symmetric difference between A and B\n",
    "symmetric_diff = A.symmetric_difference(B)\n",
    "print(symmetric_diff)\n",
    "\n"
   ]
  },
  {
   "cell_type": "code",
   "execution_count": 203,
   "metadata": {},
   "outputs": [],
   "source": [
    "# Delete the sets completely\n",
    "\n",
    "del A\n",
    "del B\n",
    "del C\n",
    "del join_A\n",
    "del join_B"
   ]
  },
  {
   "cell_type": "markdown",
   "metadata": {},
   "source": [
    "#### Sets Exercises: Level 3"
   ]
  },
  {
   "cell_type": "code",
   "execution_count": 209,
   "metadata": {},
   "outputs": [
    {
     "name": "stdout",
     "output_type": "stream",
     "text": [
      "{19, 22, 24, 25, 26}\n",
      "Length of the set is: 5\n"
     ]
    }
   ],
   "source": [
    "# Convert the ages to a set and compare the length of the list and the set, which one is bigger?\n",
    "age = [22, 19, 24, 25, 26, 24, 25, 24]\n",
    "age_set = set(age)\n",
    "print(age_set)\n",
    "length = len(age_set)\n",
    "\n",
    "print(f'Length of the set is: {len(age_set)}')"
   ]
  },
  {
   "cell_type": "code",
   "execution_count": null,
   "metadata": {},
   "outputs": [],
   "source": [
    "# Explain the difference between the following data types: string, list, tuple and set\n",
    "\n",
    "string = \"Hello World\"\n",
    "list = ['Hello', 'World']\n",
    "tuple = ('Hello', 'World')\n",
    "set = {'Hello', 'World'}\n",
    "# STRING : A string is a text wrapped in the single quote(''), double quote(\"\"), and Tripple quote(\"\"\")\n",
    "# LIST : A list is a collection of data or items. you can think of shooping list, attendace list, noise make list ETC the list is written you as: [\"book\", \" pen\"]\n",
    "# TUPLE : A tuple is collection of data in mutational form. is a collection of items that cannot be change or replce. A tuple is written as: turple = ('item', 'item2')\n",
    "# SET : A set is a collection of item in a set. a set is writen as: set = {'item', 'item2'}"
   ]
  },
  {
   "cell_type": "code",
   "execution_count": null,
   "metadata": {},
   "outputs": [
    {
     "name": "stdout",
     "output_type": "stream",
     "text": [
      "Number of unique words: 10\n",
      "{'love', 'to', 'I', 'a', 'am', 'and', 'teacher', 'people', 'teach', 'inspire'}\n"
     ]
    }
   ],
   "source": [
    "# I am a teacher and I love to inspire and teach people. How many unique words have been used in the sentence? Use the split methods and set to get the unique words.\n",
    "\n",
    "sentence = \"I am a teacher and I love to inspire and teach people\"\n",
    "words = sentence.split()\n",
    "unique_words = set(words)\n",
    "print(f'Number of unique words: {len(unique_words)}')\n",
    "print(unique_words)"
   ]
  },
  {
   "cell_type": "markdown",
   "metadata": {},
   "source": [
    "#### 🎉 CONGRATULATIONS ! 🎉"
   ]
  },
  {
   "cell_type": "code",
   "execution_count": null,
   "metadata": {},
   "outputs": [],
   "source": []
  }
 ],
 "metadata": {
  "kernelspec": {
   "display_name": "Python 3",
   "language": "python",
   "name": "python3"
  },
  "language_info": {
   "codemirror_mode": {
    "name": "ipython",
    "version": 3
   },
   "file_extension": ".py",
   "mimetype": "text/x-python",
   "name": "python",
   "nbconvert_exporter": "python",
   "pygments_lexer": "ipython3",
   "version": "3.13.0"
  }
 },
 "nbformat": 4,
 "nbformat_minor": 2
}
