{
 "cells": [
  {
   "cell_type": "markdown",
   "metadata": {},
   "source": [
    "#### 💻 Python Type Errors Exercises"
   ]
  },
  {
   "cell_type": "code",
   "execution_count": 2,
   "metadata": {},
   "outputs": [],
   "source": [
    "# Open you python interactive shell and try all the examples covered in this section."
   ]
  },
  {
   "cell_type": "markdown",
   "metadata": {},
   "source": [
    "Types of Error\n",
    "SyntaxError :- This type sof error that occurs when there is missing python important syntax like comma, closing and open paretexix ETC\n",
    "for example"
   ]
  },
  {
   "cell_type": "code",
   "execution_count": 5,
   "metadata": {},
   "outputs": [
    {
     "name": "stdout",
     "output_type": "stream",
     "text": [
      "my name Nafisat Aliyu Isah My age is: 25\n"
     ]
    }
   ],
   "source": [
    "# age = 25\n",
    "# print(\"my name Nafisat Aliyu Isah\", \"My age is:\" age)\n",
    "# The above code will result in the syntax error because of missing comma in the code\n",
    "# The correct code is:\n",
    "age = 25\n",
    "print(\"my name Nafisat Aliyu Isah\", \"My age is:\", age)"
   ]
  },
  {
   "cell_type": "code",
   "execution_count": 6,
   "metadata": {},
   "outputs": [
    {
     "name": "stdout",
     "output_type": "stream",
     "text": [
      "My name is samira umar from Sardauna\n"
     ]
    }
   ],
   "source": [
    "# ameError :- This types of error when the variable name is not declear. and you were trying to use it in our code\n",
    "# for Example\n",
    "\n",
    "# print(\"My name is Ahmad idris from\", place)\n",
    "# The above error is that the variable place was not define. This type error is called NameError\n",
    "\n",
    "# The correct code is\n",
    "place = \"Sardauna\"\n",
    "print(\"My name is samira umar from\", place)\n"
   ]
  },
  {
   "cell_type": "code",
   "execution_count": 7,
   "metadata": {},
   "outputs": [
    {
     "name": "stdout",
     "output_type": "stream",
     "text": [
      "5\n"
     ]
    }
   ],
   "source": [
    "# IndexError :- This types of error commonly occur in a list or when you are trying to get index number of an alphabet for example\n",
    "# numbers = [1, 2, 3, 4, 5]\n",
    "# print(numbers[5])\n",
    "# the total index in the above list is 4. So when you are calling the index 5 it results into an error because the index is not up to 5\n",
    "\n",
    "# The correct code is\n",
    "\n",
    "numbers = [1, 2, 3, 4, 5]\n",
    "print(numbers[4])"
   ]
  },
  {
   "cell_type": "code",
   "execution_count": 8,
   "metadata": {},
   "outputs": [
    {
     "data": {
      "text/plain": [
       "3.141592653589793"
      ]
     },
     "execution_count": 8,
     "metadata": {},
     "output_type": "execute_result"
    }
   ],
   "source": [
    "# ModuleNotFoundError :- This types of error occur when you trying to import python built in function. example\n",
    "# import maths\n",
    "# math.PI\n",
    "# The above code will results into an error the correct code is\n",
    "\n",
    "import math\n",
    "\n",
    "math.pi"
   ]
  },
  {
   "cell_type": "code",
   "execution_count": 9,
   "metadata": {},
   "outputs": [
    {
     "data": {
      "text/plain": [
       "3.141592653589793"
      ]
     },
     "execution_count": 9,
     "metadata": {},
     "output_type": "execute_result"
    }
   ],
   "source": [
    "# AttributeError :- This type of error occur when you attribute to a module of attribute that does not exist. it could be spelling, or case sensitive for example\n",
    "# import math\n",
    "# math.PI\n",
    "# The above will results in Attribute Error Because of case senstive of PI. The correct code is\n",
    "\n",
    "import math\n",
    "math.pi"
   ]
  },
  {
   "cell_type": "code",
   "execution_count": 10,
   "metadata": {},
   "outputs": [
    {
     "name": "stdout",
     "output_type": "stream",
     "text": [
      "Ghana\n"
     ]
    }
   ],
   "source": [
    "# KeyError :- This type of Error normally occur in the dictionary when the is not define or the spelling of particular is not correct for example\n",
    "# family = {'name': 'mufidat', 'age': 24, 'country': 'Nigeria'}\n",
    "# print(family['contry'])\n",
    "# This will results in an Error because of wrong spelling of the 'dic key'\n",
    "\n",
    "# The correct code is\n",
    "user = {'name': 'Muhammad', 'age': 30, 'country': 'Ghana'}\n",
    "print(user['country'])"
   ]
  },
  {
   "cell_type": "code",
   "execution_count": 12,
   "metadata": {},
   "outputs": [
    {
     "name": "stdout",
     "output_type": "stream",
     "text": [
      "6\n"
     ]
    }
   ],
   "source": [
    "# TypeError :- This type of occur when you tried to add 'int' and 'string together' for example\n",
    "# print(3, + '5')\n",
    "# This code will results in TypeError as string cannot be added with int or float\n",
    "# To correct the code you have to covert the string by using int function or input the int value for examples\n",
    "add = 3 + int(\"3\")\n",
    "print(add)"
   ]
  },
  {
   "cell_type": "code",
   "execution_count": 13,
   "metadata": {},
   "outputs": [
    {
     "data": {
      "text/plain": [
       "25.0"
      ]
     },
     "execution_count": 13,
     "metadata": {},
     "output_type": "execute_result"
    }
   ],
   "source": [
    "# ImportError :- This type of error occur when you try to import function that does not in a module. it can be spelling for examples\n",
    "# from math import power\n",
    "# The above code will results in an error because there is power function in math module rather than is pow\n",
    "\n",
    "# The correct code is\n",
    "\n",
    "from math import pow\n",
    "pow(5,2)"
   ]
  },
  {
   "cell_type": "code",
   "execution_count": 14,
   "metadata": {},
   "outputs": [
    {
     "name": "stdout",
     "output_type": "stream",
     "text": [
      "24\n"
     ]
    }
   ],
   "source": [
    "# ValueError :- This error occur when a certain type of cannot be coverted to a particular data type for example converting alphabet to int\n",
    "# print(int(\"24a\"))\n",
    "# This will resultes in error because the 'a' string cannot be converted to int\n",
    "# The correct code is\n",
    "print(int(\"24\"))"
   ]
  },
  {
   "cell_type": "code",
   "execution_count": 17,
   "metadata": {},
   "outputs": [
    {
     "ename": "SyntaxError",
     "evalue": "Missing parentheses in call to 'print'. Did you mean print(...)? (4133387914.py, line 2)",
     "output_type": "error",
     "traceback": [
      "\u001b[1;36m  Cell \u001b[1;32mIn[17], line 2\u001b[1;36m\u001b[0m\n\u001b[1;33m    print '2 / 0'\u001b[0m\n\u001b[1;37m    ^\u001b[0m\n\u001b[1;31mSyntaxError\u001b[0m\u001b[1;31m:\u001b[0m Missing parentheses in call to 'print'. Did you mean print(...)?\n"
     ]
    }
   ],
   "source": [
    "# ZeroDivisionError :- This error occur when dividing a number by 0 for examples\n",
    "print '2 / 0'\n",
    "# The correct code is you cannot divide a number 0"
   ]
  },
  {
   "cell_type": "markdown",
   "metadata": {},
   "source": [
    "#### Exception Handling/ Packing Unpacking Exercises:"
   ]
  },
  {
   "cell_type": "code",
   "execution_count": 19,
   "metadata": {},
   "outputs": [
    {
     "name": "stdout",
     "output_type": "stream",
     "text": [
      "['Finland', 'Sweden', 'Norway', 'Denmark', 'Iceland']\n",
      "Estonia\n",
      "Russia\n"
     ]
    }
   ],
   "source": [
    "# names = ['Finland', 'Sweden', 'Norway','Denmark','Iceland', 'Estonia','Russia']. Unpack the first five countries and store them in a variable nordic_countries, store Estonia and Russia in es, and ru respectively.\n",
    "names = ['Finland', 'Sweden', 'Norway','Denmark','Iceland', 'Estonia','Russia']\n",
    "nordic_countries = names[:5]\n",
    "es = names[-2]\n",
    "ru = names[-1]\n",
    "print(nordic_countries)\n",
    "print(es)\n",
    "print(ru)\n"
   ]
  },
  {
   "cell_type": "markdown",
   "metadata": {},
   "source": [
    "#### CONGRATULATION ON COMPLETING MODULE 11"
   ]
  }
 ],
 "metadata": {
  "kernelspec": {
   "display_name": "Python 3",
   "language": "python",
   "name": "python3"
  },
  "language_info": {
   "codemirror_mode": {
    "name": "ipython",
    "version": 3
   },
   "file_extension": ".py",
   "mimetype": "text/x-python",
   "name": "python",
   "nbconvert_exporter": "python",
   "pygments_lexer": "ipython3",
   "version": "3.13.0"
  }
 },
 "nbformat": 4,
 "nbformat_minor": 2
}
