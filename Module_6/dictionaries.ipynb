{
 "cells": [
  {
   "cell_type": "markdown",
   "metadata": {},
   "source": [
    "#### 💻 Exercises: Module 6"
   ]
  },
  {
   "cell_type": "code",
   "execution_count": 4,
   "metadata": {},
   "outputs": [
    {
     "name": "stdout",
     "output_type": "stream",
     "text": [
      "{}\n"
     ]
    }
   ],
   "source": [
    "# Create an empty dictionary called dog\n",
    "dog = {}\n",
    "print(dog)"
   ]
  },
  {
   "cell_type": "code",
   "execution_count": 8,
   "metadata": {},
   "outputs": [
    {
     "name": "stdout",
     "output_type": "stream",
     "text": [
      "{'name': 'doggy', 'colour': 'black', 'bread': 'spanish', 'legs': 4, 'age': 5}\n"
     ]
    }
   ],
   "source": [
    "# Add name, color, breed, legs, age to the dog dictionary      \n",
    "dog = {\n",
    "    'name': 'doggy',\n",
    "    'colour': 'black',\n",
    "    'bread': 'spanish',\n",
    "    'legs': 4,\n",
    "    'age': 5\n",
    "}\n",
    "print(dog)\n"
   ]
  },
  {
   "cell_type": "code",
   "execution_count": 9,
   "metadata": {},
   "outputs": [
    {
     "name": "stdout",
     "output_type": "stream",
     "text": [
      "{'first_name': 'Nafisa', 'last_name': 'Aliyu', 'gender': 'Female', 'age': 20, 'marital_status': 'Single', 'skills': ['Python', 'SQL', 'Excel', 'Powerbi'], 'country': 'Nigeria', 'city': 'Kaduna state', 'address': '123 Main St'}\n"
     ]
    }
   ],
   "source": [
    "# Create a student dictionary and add first_name, last_name, gender, age, marital status, skills, country, city and address as keys for the dictionary\n",
    "\n",
    "student = {\n",
    "    'first_name': 'Nafisa',\n",
    "    'last_name': 'Aliyu',\n",
    "    'gender': 'Female',\n",
    "    'age': 20,\n",
    "   'marital_status': 'Single',\n",
    "   'skills': ['Python', 'SQL', 'Excel', 'Powerbi'],\n",
    "    'country': 'Nigeria',\n",
    "    'city': 'Kaduna state',\n",
    "    'address': '123 Main St'\n",
    "}\n",
    "print(student)"
   ]
  },
  {
   "cell_type": "code",
   "execution_count": 10,
   "metadata": {},
   "outputs": [
    {
     "name": "stdout",
     "output_type": "stream",
     "text": [
      "9\n"
     ]
    }
   ],
   "source": [
    "# Get the length of the student dictionary\n",
    "\n",
    "print(len(student))"
   ]
  },
  {
   "cell_type": "code",
   "execution_count": 14,
   "metadata": {},
   "outputs": [
    {
     "name": "stdout",
     "output_type": "stream",
     "text": [
      "['Python', 'SQL', 'Excel', 'Powerbi']\n",
      "<class 'list'>\n"
     ]
    }
   ],
   "source": [
    "# Get the value of skills and\n",
    "#  check the data type, it should be a list\n",
    "print(student['skills'])\n",
    "print(type(student['skills']))\n",
    "\n",
    "\n"
   ]
  },
  {
   "cell_type": "code",
   "execution_count": 15,
   "metadata": {},
   "outputs": [
    {
     "name": "stdout",
     "output_type": "stream",
     "text": [
      "['Python', 'SQL', 'Excel', 'Powerbi', 'Machine Learning', 'Data Science']\n"
     ]
    }
   ],
   "source": [
    "# Modify the skills values by adding one or two skills\n",
    "\n",
    "student['skills'].append('Machine Learning')\n",
    "student['skills'].append('Data Science')\n",
    "print(student['skills'])"
   ]
  },
  {
   "cell_type": "code",
   "execution_count": 16,
   "metadata": {},
   "outputs": [
    {
     "name": "stdout",
     "output_type": "stream",
     "text": [
      "['first_name', 'last_name', 'gender', 'age', 'marital_status', 'skills', 'country', 'city', 'address']\n"
     ]
    }
   ],
   "source": [
    "# Get the dictionary keys as a list\n",
    "\n",
    "print(list(student.keys()))"
   ]
  },
  {
   "cell_type": "code",
   "execution_count": 17,
   "metadata": {},
   "outputs": [
    {
     "name": "stdout",
     "output_type": "stream",
     "text": [
      "['Nafisa', 'Aliyu', 'Female', 20, 'Single', ['Python', 'SQL', 'Excel', 'Powerbi', 'Machine Learning', 'Data Science'], 'Nigeria', 'Kaduna state', '123 Main St']\n"
     ]
    }
   ],
   "source": [
    "# Get the dictionary values as a list\n",
    "\n",
    "print(list(student.values()))"
   ]
  },
  {
   "cell_type": "code",
   "execution_count": 18,
   "metadata": {},
   "outputs": [
    {
     "name": "stdout",
     "output_type": "stream",
     "text": [
      "[('first_name', 'Nafisa'), ('last_name', 'Aliyu'), ('gender', 'Female'), ('age', 20), ('marital_status', 'Single'), ('skills', ['Python', 'SQL', 'Excel', 'Powerbi', 'Machine Learning', 'Data Science']), ('country', 'Nigeria'), ('city', 'Kaduna state'), ('address', '123 Main St')]\n"
     ]
    }
   ],
   "source": [
    "# Change the dictionary to a list of tuples using items() method\n",
    "\n",
    "student_list = list(student.items())\n",
    "print(student_list)"
   ]
  },
  {
   "cell_type": "code",
   "execution_count": 19,
   "metadata": {},
   "outputs": [
    {
     "name": "stdout",
     "output_type": "stream",
     "text": [
      "{'first_name': 'Nafisa', 'last_name': 'Aliyu', 'gender': 'Female', 'age': 20, 'marital_status': 'Single', 'skills': ['Python', 'SQL', 'Excel', 'Powerbi', 'Machine Learning', 'Data Science'], 'country': 'Nigeria', 'city': 'Kaduna state'}\n"
     ]
    }
   ],
   "source": [
    "# Delete one of the items in the dictionary\n",
    "\n",
    "del student['address']\n",
    "print(student)"
   ]
  },
  {
   "cell_type": "code",
   "execution_count": 20,
   "metadata": {},
   "outputs": [
    {
     "name": "stdout",
     "output_type": "stream",
     "text": [
      "[('last_name', 'Aliyu'), ('gender', 'Female'), ('age', 20), ('marital_status', 'Single'), ('skills', ['Python', 'SQL', 'Excel', 'Powerbi', 'Machine Learning', 'Data Science']), ('country', 'Nigeria'), ('city', 'Kaduna state'), ('address', '123 Main St')]\n"
     ]
    }
   ],
   "source": [
    "# Delete one of the dictionaries\n",
    "\n",
    "del student_list[0]\n",
    "print(student_list)"
   ]
  },
  {
   "cell_type": "markdown",
   "metadata": {},
   "source": [
    "#### 🎉 CONGRATULATIONS ! 🎉"
   ]
  }
 ],
 "metadata": {
  "kernelspec": {
   "display_name": "Python 3",
   "language": "python",
   "name": "python3"
  },
  "language_info": {
   "codemirror_mode": {
    "name": "ipython",
    "version": 3
   },
   "file_extension": ".py",
   "mimetype": "text/x-python",
   "name": "python",
   "nbconvert_exporter": "python",
   "pygments_lexer": "ipython3",
   "version": "3.13.0"
  }
 },
 "nbformat": 4,
 "nbformat_minor": 2
}
